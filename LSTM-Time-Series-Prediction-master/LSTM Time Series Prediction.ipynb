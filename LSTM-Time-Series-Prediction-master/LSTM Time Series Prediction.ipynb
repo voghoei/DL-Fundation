{
 "cells": [
  {
   "cell_type": "markdown",
   "metadata": {},
   "source": [
    "# LSTM Time Series Prediction\n",
    "This program uses LSTM for Time Series prognosis. The code uses Beijing Air Polution dataset which reports the level of air polution at the US embassy in Beijing, China for 5 years. The dataset can be downloaded from the UCI repository:\n",
    "     https://archive.ics.uci.edu/ml/datasets/Beijing+PM2.5+Data\n",
    "        \n"
   ]
  },
  {
   "cell_type": "markdown",
   "metadata": {},
   "source": [
    "## Python Environment\n",
    "We assume you have already installed necessary components to run the code. Look at this link if you need help with the environment setup:\n",
    "    http://inmachineswetrust.com/posts/deep-learning-setup/"
   ]
  },
  {
   "cell_type": "code",
   "execution_count": 1,
   "metadata": {},
   "outputs": [
    {
     "data": {
      "text/html": [
       "<div>\n",
       "<style scoped>\n",
       "    .dataframe tbody tr th:only-of-type {\n",
       "        vertical-align: middle;\n",
       "    }\n",
       "\n",
       "    .dataframe tbody tr th {\n",
       "        vertical-align: top;\n",
       "    }\n",
       "\n",
       "    .dataframe thead th {\n",
       "        text-align: right;\n",
       "    }\n",
       "</style>\n",
       "<table border=\"1\" class=\"dataframe\">\n",
       "  <thead>\n",
       "    <tr style=\"text-align: right;\">\n",
       "      <th></th>\n",
       "      <th>No</th>\n",
       "      <th>year</th>\n",
       "      <th>month</th>\n",
       "      <th>day</th>\n",
       "      <th>hour</th>\n",
       "      <th>pm2.5</th>\n",
       "      <th>DEWP</th>\n",
       "      <th>TEMP</th>\n",
       "      <th>PRES</th>\n",
       "      <th>cbwd</th>\n",
       "      <th>Iws</th>\n",
       "      <th>Is</th>\n",
       "      <th>Ir</th>\n",
       "    </tr>\n",
       "  </thead>\n",
       "  <tbody>\n",
       "    <tr>\n",
       "      <th>0</th>\n",
       "      <td>1</td>\n",
       "      <td>2010</td>\n",
       "      <td>1</td>\n",
       "      <td>1</td>\n",
       "      <td>0</td>\n",
       "      <td>NaN</td>\n",
       "      <td>-21</td>\n",
       "      <td>-11.0</td>\n",
       "      <td>1021.0</td>\n",
       "      <td>NW</td>\n",
       "      <td>1.79</td>\n",
       "      <td>0</td>\n",
       "      <td>0</td>\n",
       "    </tr>\n",
       "    <tr>\n",
       "      <th>1</th>\n",
       "      <td>2</td>\n",
       "      <td>2010</td>\n",
       "      <td>1</td>\n",
       "      <td>1</td>\n",
       "      <td>1</td>\n",
       "      <td>NaN</td>\n",
       "      <td>-21</td>\n",
       "      <td>-12.0</td>\n",
       "      <td>1020.0</td>\n",
       "      <td>NW</td>\n",
       "      <td>4.92</td>\n",
       "      <td>0</td>\n",
       "      <td>0</td>\n",
       "    </tr>\n",
       "    <tr>\n",
       "      <th>2</th>\n",
       "      <td>3</td>\n",
       "      <td>2010</td>\n",
       "      <td>1</td>\n",
       "      <td>1</td>\n",
       "      <td>2</td>\n",
       "      <td>NaN</td>\n",
       "      <td>-21</td>\n",
       "      <td>-11.0</td>\n",
       "      <td>1019.0</td>\n",
       "      <td>NW</td>\n",
       "      <td>6.71</td>\n",
       "      <td>0</td>\n",
       "      <td>0</td>\n",
       "    </tr>\n",
       "  </tbody>\n",
       "</table>\n",
       "</div>"
      ],
      "text/plain": [
       "   No  year  month  day  hour  pm2.5  DEWP  TEMP    PRES cbwd   Iws  Is  Ir\n",
       "0   1  2010      1    1     0    NaN   -21 -11.0  1021.0   NW  1.79   0   0\n",
       "1   2  2010      1    1     1    NaN   -21 -12.0  1020.0   NW  4.92   0   0\n",
       "2   3  2010      1    1     2    NaN   -21 -11.0  1019.0   NW  6.71   0   0"
      ]
     },
     "execution_count": 1,
     "metadata": {},
     "output_type": "execute_result"
    }
   ],
   "source": [
    "from pandas import read_csv\n",
    "from datetime import datetime\n",
    "def parse(x):\n",
    "    return datetime.strptime(x, '%Y %m %d %H')\n",
    "dataset = read_csv('dataset.csv')\n",
    "dataset.head(3)"
   ]
  },
  {
   "cell_type": "markdown",
   "metadata": {},
   "source": [
    "#### <span style=\"color:blue\">As the first step of data preparation, we create a single column combining 'year', 'month', 'day', and 'hour' columns. The following code also removes the second column of the dataset('No').</span>"
   ]
  },
  {
   "cell_type": "code",
   "execution_count": 2,
   "metadata": {},
   "outputs": [
    {
     "data": {
      "text/html": [
       "<div>\n",
       "<style scoped>\n",
       "    .dataframe tbody tr th:only-of-type {\n",
       "        vertical-align: middle;\n",
       "    }\n",
       "\n",
       "    .dataframe tbody tr th {\n",
       "        vertical-align: top;\n",
       "    }\n",
       "\n",
       "    .dataframe thead th {\n",
       "        text-align: right;\n",
       "    }\n",
       "</style>\n",
       "<table border=\"1\" class=\"dataframe\">\n",
       "  <thead>\n",
       "    <tr style=\"text-align: right;\">\n",
       "      <th></th>\n",
       "      <th>pm2.5</th>\n",
       "      <th>DEWP</th>\n",
       "      <th>TEMP</th>\n",
       "      <th>PRES</th>\n",
       "      <th>cbwd</th>\n",
       "      <th>Iws</th>\n",
       "      <th>Is</th>\n",
       "      <th>Ir</th>\n",
       "    </tr>\n",
       "    <tr>\n",
       "      <th>year_month_day_hour</th>\n",
       "      <th></th>\n",
       "      <th></th>\n",
       "      <th></th>\n",
       "      <th></th>\n",
       "      <th></th>\n",
       "      <th></th>\n",
       "      <th></th>\n",
       "      <th></th>\n",
       "    </tr>\n",
       "  </thead>\n",
       "  <tbody>\n",
       "    <tr>\n",
       "      <th>2010-01-01 00:00:00</th>\n",
       "      <td>NaN</td>\n",
       "      <td>-21</td>\n",
       "      <td>-11.0</td>\n",
       "      <td>1021.0</td>\n",
       "      <td>NW</td>\n",
       "      <td>1.79</td>\n",
       "      <td>0</td>\n",
       "      <td>0</td>\n",
       "    </tr>\n",
       "    <tr>\n",
       "      <th>2010-01-01 01:00:00</th>\n",
       "      <td>NaN</td>\n",
       "      <td>-21</td>\n",
       "      <td>-12.0</td>\n",
       "      <td>1020.0</td>\n",
       "      <td>NW</td>\n",
       "      <td>4.92</td>\n",
       "      <td>0</td>\n",
       "      <td>0</td>\n",
       "    </tr>\n",
       "    <tr>\n",
       "      <th>2010-01-01 02:00:00</th>\n",
       "      <td>NaN</td>\n",
       "      <td>-21</td>\n",
       "      <td>-11.0</td>\n",
       "      <td>1019.0</td>\n",
       "      <td>NW</td>\n",
       "      <td>6.71</td>\n",
       "      <td>0</td>\n",
       "      <td>0</td>\n",
       "    </tr>\n",
       "  </tbody>\n",
       "</table>\n",
       "</div>"
      ],
      "text/plain": [
       "                     pm2.5  DEWP  TEMP    PRES cbwd   Iws  Is  Ir\n",
       "year_month_day_hour                                              \n",
       "2010-01-01 00:00:00    NaN   -21 -11.0  1021.0   NW  1.79   0   0\n",
       "2010-01-01 01:00:00    NaN   -21 -12.0  1020.0   NW  4.92   0   0\n",
       "2010-01-01 02:00:00    NaN   -21 -11.0  1019.0   NW  6.71   0   0"
      ]
     },
     "execution_count": 2,
     "metadata": {},
     "output_type": "execute_result"
    }
   ],
   "source": [
    "dataset = read_csv('dataset.csv',  parse_dates = [['year', 'month', 'day', 'hour']], index_col=0, date_parser=parse)\n",
    "dataset.drop('No', axis=1, inplace=True)\n",
    "dataset.head(3)"
   ]
  },
  {
   "cell_type": "markdown",
   "metadata": {},
   "source": [
    "#### <span style=\"color:blue\">Renaming the columns:</span>"
   ]
  },
  {
   "cell_type": "code",
   "execution_count": 3,
   "metadata": {},
   "outputs": [
    {
     "data": {
      "text/html": [
       "<div>\n",
       "<style scoped>\n",
       "    .dataframe tbody tr th:only-of-type {\n",
       "        vertical-align: middle;\n",
       "    }\n",
       "\n",
       "    .dataframe tbody tr th {\n",
       "        vertical-align: top;\n",
       "    }\n",
       "\n",
       "    .dataframe thead th {\n",
       "        text-align: right;\n",
       "    }\n",
       "</style>\n",
       "<table border=\"1\" class=\"dataframe\">\n",
       "  <thead>\n",
       "    <tr style=\"text-align: right;\">\n",
       "      <th></th>\n",
       "      <th>pollution</th>\n",
       "      <th>dew_point</th>\n",
       "      <th>temperature</th>\n",
       "      <th>pressure</th>\n",
       "      <th>wind_direction</th>\n",
       "      <th>wind_speed</th>\n",
       "      <th>hours_of_snow</th>\n",
       "      <th>hours_of_rain</th>\n",
       "    </tr>\n",
       "    <tr>\n",
       "      <th>date</th>\n",
       "      <th></th>\n",
       "      <th></th>\n",
       "      <th></th>\n",
       "      <th></th>\n",
       "      <th></th>\n",
       "      <th></th>\n",
       "      <th></th>\n",
       "      <th></th>\n",
       "    </tr>\n",
       "  </thead>\n",
       "  <tbody>\n",
       "    <tr>\n",
       "      <th>2010-01-01</th>\n",
       "      <td>NaN</td>\n",
       "      <td>-21</td>\n",
       "      <td>-11.0</td>\n",
       "      <td>1021.0</td>\n",
       "      <td>NW</td>\n",
       "      <td>1.79</td>\n",
       "      <td>0</td>\n",
       "      <td>0</td>\n",
       "    </tr>\n",
       "  </tbody>\n",
       "</table>\n",
       "</div>"
      ],
      "text/plain": [
       "            pollution  dew_point  temperature  pressure wind_direction  \\\n",
       "date                                                                     \n",
       "2010-01-01        NaN        -21        -11.0    1021.0             NW   \n",
       "\n",
       "            wind_speed  hours_of_snow  hours_of_rain  \n",
       "date                                                  \n",
       "2010-01-01        1.79              0              0  "
      ]
     },
     "execution_count": 3,
     "metadata": {},
     "output_type": "execute_result"
    }
   ],
   "source": [
    "dataset.columns = ['pollution', 'dew_point', 'temperature', 'pressure', 'wind_direction', 'wind_speed', 'hours_of_snow', 'hours_of_rain']\n",
    "dataset.index.name = 'date'\n",
    "dataset.head(1)"
   ]
  },
  {
   "cell_type": "markdown",
   "metadata": {},
   "source": [
    "#### <span style=\"color:blue\">Replace NaN values with 0 and removing first 24 rows:</span>"
   ]
  },
  {
   "cell_type": "code",
   "execution_count": 4,
   "metadata": {},
   "outputs": [
    {
     "data": {
      "text/html": [
       "<div>\n",
       "<style scoped>\n",
       "    .dataframe tbody tr th:only-of-type {\n",
       "        vertical-align: middle;\n",
       "    }\n",
       "\n",
       "    .dataframe tbody tr th {\n",
       "        vertical-align: top;\n",
       "    }\n",
       "\n",
       "    .dataframe thead th {\n",
       "        text-align: right;\n",
       "    }\n",
       "</style>\n",
       "<table border=\"1\" class=\"dataframe\">\n",
       "  <thead>\n",
       "    <tr style=\"text-align: right;\">\n",
       "      <th></th>\n",
       "      <th>pollution</th>\n",
       "      <th>dew_point</th>\n",
       "      <th>temperature</th>\n",
       "      <th>pressure</th>\n",
       "      <th>wind_direction</th>\n",
       "      <th>wind_speed</th>\n",
       "      <th>hours_of_snow</th>\n",
       "      <th>hours_of_rain</th>\n",
       "    </tr>\n",
       "    <tr>\n",
       "      <th>date</th>\n",
       "      <th></th>\n",
       "      <th></th>\n",
       "      <th></th>\n",
       "      <th></th>\n",
       "      <th></th>\n",
       "      <th></th>\n",
       "      <th></th>\n",
       "      <th></th>\n",
       "    </tr>\n",
       "  </thead>\n",
       "  <tbody>\n",
       "    <tr>\n",
       "      <th>2010-01-02 00:00:00</th>\n",
       "      <td>129.0</td>\n",
       "      <td>-16</td>\n",
       "      <td>-4.0</td>\n",
       "      <td>1020.0</td>\n",
       "      <td>SE</td>\n",
       "      <td>1.79</td>\n",
       "      <td>0</td>\n",
       "      <td>0</td>\n",
       "    </tr>\n",
       "    <tr>\n",
       "      <th>2010-01-02 01:00:00</th>\n",
       "      <td>148.0</td>\n",
       "      <td>-15</td>\n",
       "      <td>-4.0</td>\n",
       "      <td>1020.0</td>\n",
       "      <td>SE</td>\n",
       "      <td>2.68</td>\n",
       "      <td>0</td>\n",
       "      <td>0</td>\n",
       "    </tr>\n",
       "    <tr>\n",
       "      <th>2010-01-02 02:00:00</th>\n",
       "      <td>159.0</td>\n",
       "      <td>-11</td>\n",
       "      <td>-5.0</td>\n",
       "      <td>1021.0</td>\n",
       "      <td>SE</td>\n",
       "      <td>3.57</td>\n",
       "      <td>0</td>\n",
       "      <td>0</td>\n",
       "    </tr>\n",
       "  </tbody>\n",
       "</table>\n",
       "</div>"
      ],
      "text/plain": [
       "                     pollution  dew_point  temperature  pressure  \\\n",
       "date                                                               \n",
       "2010-01-02 00:00:00      129.0        -16         -4.0    1020.0   \n",
       "2010-01-02 01:00:00      148.0        -15         -4.0    1020.0   \n",
       "2010-01-02 02:00:00      159.0        -11         -5.0    1021.0   \n",
       "\n",
       "                    wind_direction  wind_speed  hours_of_snow  hours_of_rain  \n",
       "date                                                                          \n",
       "2010-01-02 00:00:00             SE        1.79              0              0  \n",
       "2010-01-02 01:00:00             SE        2.68              0              0  \n",
       "2010-01-02 02:00:00             SE        3.57              0              0  "
      ]
     },
     "execution_count": 4,
     "metadata": {},
     "output_type": "execute_result"
    }
   ],
   "source": [
    "dataset['pollution'].fillna(0, inplace=True)\n",
    "dataset = dataset[24:]\n",
    "dataset.head(3)"
   ]
  },
  {
   "cell_type": "code",
   "execution_count": 5,
   "metadata": {},
   "outputs": [
    {
     "data": {
      "text/plain": [
       "array([[90.0, -7, -6.0, ..., 58.56, 4, 0],\n",
       "       [63.0, -8, -6.0, ..., 61.69, 5, 0],\n",
       "       [65.0, -8, -7.0, ..., 65.71, 6, 0],\n",
       "       ...,\n",
       "       [10.0, -22, -3.0, ..., 242.7, 0, 0],\n",
       "       [8.0, -22, -4.0, ..., 246.72, 0, 0],\n",
       "       [12.0, -21, -3.0, ..., 249.85, 0, 0]], dtype=object)"
      ]
     },
     "execution_count": 5,
     "metadata": {},
     "output_type": "execute_result"
    }
   ],
   "source": [
    "dataset = read_csv('pollution.csv', header=0, index_col=0)\n",
    "values = dataset.values\n",
    "values"
   ]
  },
  {
   "cell_type": "code",
   "execution_count": 6,
   "metadata": {},
   "outputs": [
    {
     "data": {
      "text/plain": [
       "array([90.0, -7, -6.0, 1027.0, 'SE', 58.56, 4, 0], dtype=object)"
      ]
     },
     "execution_count": 6,
     "metadata": {},
     "output_type": "execute_result"
    }
   ],
   "source": [
    "values[0]"
   ]
  },
  {
   "cell_type": "code",
   "execution_count": 8,
   "metadata": {},
   "outputs": [
    {
     "data": {
      "text/plain": [
       "array([  90.  ,   -7.  ,   -6.  , 1027.  ,    2.  ,   58.56,    4.  ,\n",
       "          0.  ], dtype=float32)"
      ]
     },
     "execution_count": 8,
     "metadata": {},
     "output_type": "execute_result"
    }
   ],
   "source": [
    "# integer encode direction\n",
    "from sklearn import preprocessing\n",
    "encoder = preprocessing.LabelEncoder()\n",
    "values[:,4] = encoder.fit_transform(values[:,4])\n",
    "values = values.astype('float32')\n",
    "values[0]"
   ]
  },
  {
   "cell_type": "code",
   "execution_count": 10,
   "metadata": {},
   "outputs": [
    {
     "data": {
      "text/plain": [
       "array([0.09054326, 0.48529413, 0.21311474, 0.65454674, 0.6666667 ,\n",
       "       0.09930788, 0.14814815, 0.        ], dtype=float32)"
      ]
     },
     "execution_count": 10,
     "metadata": {},
     "output_type": "execute_result"
    }
   ],
   "source": [
    "# normalize features\n",
    "from sklearn.preprocessing import MinMaxScaler\n",
    "scaler = MinMaxScaler(feature_range=(0, 1))\n",
    "scaled = scaler.fit_transform(values)\n",
    "scaled[0]"
   ]
  },
  {
   "cell_type": "markdown",
   "metadata": {},
   "source": [
    "#### <span style=\"color:blue\">Storing the clean dataset in a new file:</span>"
   ]
  },
  {
   "cell_type": "code",
   "execution_count": 24,
   "metadata": {},
   "outputs": [
    {
     "data": {
      "text/plain": [
       "8"
      ]
     },
     "execution_count": 24,
     "metadata": {},
     "output_type": "execute_result"
    }
   ],
   "source": [
    "import pandas as pd   \n",
    "\n",
    "data = scaled\n",
    "df = pd.DataFrame(data)\n",
    "\n",
    "n_in=1\n",
    "n_out=1\n",
    "dropnan=True\n",
    "n_vars = 1 if type(data) is list else data.shape[1]\n",
    "cols, names = list(), list()\n",
    "n_vars  \n"
   ]
  },
  {
   "cell_type": "code",
   "execution_count": 25,
   "metadata": {},
   "outputs": [
    {
     "data": {
      "text/html": [
       "<div>\n",
       "<style scoped>\n",
       "    .dataframe tbody tr th:only-of-type {\n",
       "        vertical-align: middle;\n",
       "    }\n",
       "\n",
       "    .dataframe tbody tr th {\n",
       "        vertical-align: top;\n",
       "    }\n",
       "\n",
       "    .dataframe thead th {\n",
       "        text-align: right;\n",
       "    }\n",
       "</style>\n",
       "<table border=\"1\" class=\"dataframe\">\n",
       "  <thead>\n",
       "    <tr style=\"text-align: right;\">\n",
       "      <th></th>\n",
       "      <th>0</th>\n",
       "      <th>1</th>\n",
       "      <th>2</th>\n",
       "      <th>3</th>\n",
       "      <th>4</th>\n",
       "      <th>5</th>\n",
       "      <th>6</th>\n",
       "      <th>7</th>\n",
       "    </tr>\n",
       "  </thead>\n",
       "  <tbody>\n",
       "    <tr>\n",
       "      <th>0</th>\n",
       "      <td>0.090543</td>\n",
       "      <td>0.485294</td>\n",
       "      <td>0.213115</td>\n",
       "      <td>0.654547</td>\n",
       "      <td>0.666667</td>\n",
       "      <td>0.099308</td>\n",
       "      <td>0.148148</td>\n",
       "      <td>0.0</td>\n",
       "    </tr>\n",
       "    <tr>\n",
       "      <th>1</th>\n",
       "      <td>0.063380</td>\n",
       "      <td>0.470588</td>\n",
       "      <td>0.213115</td>\n",
       "      <td>0.636364</td>\n",
       "      <td>0.666667</td>\n",
       "      <td>0.104657</td>\n",
       "      <td>0.185185</td>\n",
       "      <td>0.0</td>\n",
       "    </tr>\n",
       "    <tr>\n",
       "      <th>2</th>\n",
       "      <td>0.065392</td>\n",
       "      <td>0.470588</td>\n",
       "      <td>0.196721</td>\n",
       "      <td>0.636364</td>\n",
       "      <td>0.666667</td>\n",
       "      <td>0.111527</td>\n",
       "      <td>0.222222</td>\n",
       "      <td>0.0</td>\n",
       "    </tr>\n",
       "    <tr>\n",
       "      <th>3</th>\n",
       "      <td>0.055332</td>\n",
       "      <td>0.470588</td>\n",
       "      <td>0.196721</td>\n",
       "      <td>0.618183</td>\n",
       "      <td>0.666667</td>\n",
       "      <td>0.116876</td>\n",
       "      <td>0.259259</td>\n",
       "      <td>0.0</td>\n",
       "    </tr>\n",
       "    <tr>\n",
       "      <th>4</th>\n",
       "      <td>0.065392</td>\n",
       "      <td>0.470588</td>\n",
       "      <td>0.196721</td>\n",
       "      <td>0.600000</td>\n",
       "      <td>0.666667</td>\n",
       "      <td>0.123746</td>\n",
       "      <td>0.296296</td>\n",
       "      <td>0.0</td>\n",
       "    </tr>\n",
       "    <tr>\n",
       "      <th>...</th>\n",
       "      <td>...</td>\n",
       "      <td>...</td>\n",
       "      <td>...</td>\n",
       "      <td>...</td>\n",
       "      <td>...</td>\n",
       "      <td>...</td>\n",
       "      <td>...</td>\n",
       "      <td>...</td>\n",
       "    </tr>\n",
       "    <tr>\n",
       "      <th>43771</th>\n",
       "      <td>0.008048</td>\n",
       "      <td>0.250000</td>\n",
       "      <td>0.278689</td>\n",
       "      <td>0.781818</td>\n",
       "      <td>0.333333</td>\n",
       "      <td>0.395659</td>\n",
       "      <td>0.000000</td>\n",
       "      <td>0.0</td>\n",
       "    </tr>\n",
       "    <tr>\n",
       "      <th>43772</th>\n",
       "      <td>0.010060</td>\n",
       "      <td>0.264706</td>\n",
       "      <td>0.262295</td>\n",
       "      <td>0.781818</td>\n",
       "      <td>0.333333</td>\n",
       "      <td>0.405588</td>\n",
       "      <td>0.000000</td>\n",
       "      <td>0.0</td>\n",
       "    </tr>\n",
       "    <tr>\n",
       "      <th>43773</th>\n",
       "      <td>0.010060</td>\n",
       "      <td>0.264706</td>\n",
       "      <td>0.262295</td>\n",
       "      <td>0.781818</td>\n",
       "      <td>0.333333</td>\n",
       "      <td>0.413996</td>\n",
       "      <td>0.000000</td>\n",
       "      <td>0.0</td>\n",
       "    </tr>\n",
       "    <tr>\n",
       "      <th>43774</th>\n",
       "      <td>0.008048</td>\n",
       "      <td>0.264706</td>\n",
       "      <td>0.245902</td>\n",
       "      <td>0.781818</td>\n",
       "      <td>0.333333</td>\n",
       "      <td>0.420866</td>\n",
       "      <td>0.000000</td>\n",
       "      <td>0.0</td>\n",
       "    </tr>\n",
       "    <tr>\n",
       "      <th>43775</th>\n",
       "      <td>0.012072</td>\n",
       "      <td>0.279412</td>\n",
       "      <td>0.262295</td>\n",
       "      <td>0.781818</td>\n",
       "      <td>0.333333</td>\n",
       "      <td>0.426216</td>\n",
       "      <td>0.000000</td>\n",
       "      <td>0.0</td>\n",
       "    </tr>\n",
       "  </tbody>\n",
       "</table>\n",
       "<p>43776 rows × 8 columns</p>\n",
       "</div>"
      ],
      "text/plain": [
       "              0         1         2         3         4         5         6  \\\n",
       "0      0.090543  0.485294  0.213115  0.654547  0.666667  0.099308  0.148148   \n",
       "1      0.063380  0.470588  0.213115  0.636364  0.666667  0.104657  0.185185   \n",
       "2      0.065392  0.470588  0.196721  0.636364  0.666667  0.111527  0.222222   \n",
       "3      0.055332  0.470588  0.196721  0.618183  0.666667  0.116876  0.259259   \n",
       "4      0.065392  0.470588  0.196721  0.600000  0.666667  0.123746  0.296296   \n",
       "...         ...       ...       ...       ...       ...       ...       ...   \n",
       "43771  0.008048  0.250000  0.278689  0.781818  0.333333  0.395659  0.000000   \n",
       "43772  0.010060  0.264706  0.262295  0.781818  0.333333  0.405588  0.000000   \n",
       "43773  0.010060  0.264706  0.262295  0.781818  0.333333  0.413996  0.000000   \n",
       "43774  0.008048  0.264706  0.245902  0.781818  0.333333  0.420866  0.000000   \n",
       "43775  0.012072  0.279412  0.262295  0.781818  0.333333  0.426216  0.000000   \n",
       "\n",
       "         7  \n",
       "0      0.0  \n",
       "1      0.0  \n",
       "2      0.0  \n",
       "3      0.0  \n",
       "4      0.0  \n",
       "...    ...  \n",
       "43771  0.0  \n",
       "43772  0.0  \n",
       "43773  0.0  \n",
       "43774  0.0  \n",
       "43775  0.0  \n",
       "\n",
       "[43776 rows x 8 columns]"
      ]
     },
     "execution_count": 25,
     "metadata": {},
     "output_type": "execute_result"
    }
   ],
   "source": [
    "df"
   ]
  },
  {
   "cell_type": "code",
   "execution_count": 26,
   "metadata": {},
   "outputs": [
    {
     "data": {
      "text/plain": [
       "[]"
      ]
     },
     "execution_count": 26,
     "metadata": {},
     "output_type": "execute_result"
    }
   ],
   "source": [
    "cols"
   ]
  },
  {
   "cell_type": "code",
   "execution_count": 27,
   "metadata": {},
   "outputs": [
    {
     "data": {
      "text/plain": [
       "[]"
      ]
     },
     "execution_count": 27,
     "metadata": {},
     "output_type": "execute_result"
    }
   ],
   "source": [
    "names"
   ]
  },
  {
   "cell_type": "code",
   "execution_count": 28,
   "metadata": {},
   "outputs": [],
   "source": [
    "# input sequence (t-n, ... t-1)\n",
    "for i in range(n_in, 0, -1):\n",
    "    cols.append(df.shift(i))\n",
    "    names += [('var%d(t-%d)' % (j+1, i)) for j in range(n_vars)]"
   ]
  },
  {
   "cell_type": "code",
   "execution_count": 30,
   "metadata": {},
   "outputs": [
    {
     "data": {
      "text/plain": [
       "[              0         1         2         3         4         5         6  \\\n",
       " 0           NaN       NaN       NaN       NaN       NaN       NaN       NaN   \n",
       " 1      0.090543  0.485294  0.213115  0.654547  0.666667  0.099308  0.148148   \n",
       " 2      0.063380  0.470588  0.213115  0.636364  0.666667  0.104657  0.185185   \n",
       " 3      0.065392  0.470588  0.196721  0.636364  0.666667  0.111527  0.222222   \n",
       " 4      0.055332  0.470588  0.196721  0.618183  0.666667  0.116876  0.259259   \n",
       " ...         ...       ...       ...       ...       ...       ...       ...   \n",
       " 43771  0.010060  0.264706  0.278689  0.763638  0.333333  0.385730  0.000000   \n",
       " 43772  0.008048  0.250000  0.278689  0.781818  0.333333  0.395659  0.000000   \n",
       " 43773  0.010060  0.264706  0.262295  0.781818  0.333333  0.405588  0.000000   \n",
       " 43774  0.010060  0.264706  0.262295  0.781818  0.333333  0.413996  0.000000   \n",
       " 43775  0.008048  0.264706  0.245902  0.781818  0.333333  0.420866  0.000000   \n",
       " \n",
       "          7  \n",
       " 0      NaN  \n",
       " 1      0.0  \n",
       " 2      0.0  \n",
       " 3      0.0  \n",
       " 4      0.0  \n",
       " ...    ...  \n",
       " 43771  0.0  \n",
       " 43772  0.0  \n",
       " 43773  0.0  \n",
       " 43774  0.0  \n",
       " 43775  0.0  \n",
       " \n",
       " [43776 rows x 8 columns]]"
      ]
     },
     "execution_count": 30,
     "metadata": {},
     "output_type": "execute_result"
    }
   ],
   "source": [
    "cols"
   ]
  },
  {
   "cell_type": "code",
   "execution_count": 29,
   "metadata": {},
   "outputs": [
    {
     "data": {
      "text/plain": [
       "[              0         1         2         3         4         5         6  \\\n",
       " 0           NaN       NaN       NaN       NaN       NaN       NaN       NaN   \n",
       " 1      0.090543  0.485294  0.213115  0.654547  0.666667  0.099308  0.148148   \n",
       " 2      0.063380  0.470588  0.213115  0.636364  0.666667  0.104657  0.185185   \n",
       " 3      0.065392  0.470588  0.196721  0.636364  0.666667  0.111527  0.222222   \n",
       " 4      0.055332  0.470588  0.196721  0.618183  0.666667  0.116876  0.259259   \n",
       " ...         ...       ...       ...       ...       ...       ...       ...   \n",
       " 43771  0.010060  0.264706  0.278689  0.763638  0.333333  0.385730  0.000000   \n",
       " 43772  0.008048  0.250000  0.278689  0.781818  0.333333  0.395659  0.000000   \n",
       " 43773  0.010060  0.264706  0.262295  0.781818  0.333333  0.405588  0.000000   \n",
       " 43774  0.010060  0.264706  0.262295  0.781818  0.333333  0.413996  0.000000   \n",
       " 43775  0.008048  0.264706  0.245902  0.781818  0.333333  0.420866  0.000000   \n",
       " \n",
       "          7  \n",
       " 0      NaN  \n",
       " 1      0.0  \n",
       " 2      0.0  \n",
       " 3      0.0  \n",
       " 4      0.0  \n",
       " ...    ...  \n",
       " 43771  0.0  \n",
       " 43772  0.0  \n",
       " 43773  0.0  \n",
       " 43774  0.0  \n",
       " 43775  0.0  \n",
       " \n",
       " [43776 rows x 8 columns]]"
      ]
     },
     "execution_count": 29,
     "metadata": {},
     "output_type": "execute_result"
    }
   ],
   "source": [
    "cols[0:1]"
   ]
  },
  {
   "cell_type": "code",
   "execution_count": 31,
   "metadata": {},
   "outputs": [
    {
     "data": {
      "text/plain": [
       "['var1(t-1)',\n",
       " 'var2(t-1)',\n",
       " 'var3(t-1)',\n",
       " 'var4(t-1)',\n",
       " 'var5(t-1)',\n",
       " 'var6(t-1)',\n",
       " 'var7(t-1)',\n",
       " 'var8(t-1)']"
      ]
     },
     "execution_count": 31,
     "metadata": {},
     "output_type": "execute_result"
    }
   ],
   "source": [
    "names"
   ]
  },
  {
   "cell_type": "code",
   "execution_count": 36,
   "metadata": {},
   "outputs": [],
   "source": [
    "# forecast sequence (t, t+1, ... t+n)\n",
    "for i in range(0, n_out):\n",
    "    cols.append(df.shift(-i))\n",
    "    if i == 0:\n",
    "        names += [('var%d(t)' % (j+1)) for j in range(n_vars)]\n",
    "    else:\n",
    "        names += [('var%d(t+%d)' % (j+1, i)) for j in range(n_vars)]"
   ]
  },
  {
   "cell_type": "code",
   "execution_count": 37,
   "metadata": {},
   "outputs": [
    {
     "data": {
      "text/plain": [
       "[              0         1         2         3         4         5         6  \\\n",
       " 0           NaN       NaN       NaN       NaN       NaN       NaN       NaN   \n",
       " 1      0.090543  0.485294  0.213115  0.654547  0.666667  0.099308  0.148148   \n",
       " 2      0.063380  0.470588  0.213115  0.636364  0.666667  0.104657  0.185185   \n",
       " 3      0.065392  0.470588  0.196721  0.636364  0.666667  0.111527  0.222222   \n",
       " 4      0.055332  0.470588  0.196721  0.618183  0.666667  0.116876  0.259259   \n",
       " ...         ...       ...       ...       ...       ...       ...       ...   \n",
       " 43771  0.010060  0.264706  0.278689  0.763638  0.333333  0.385730  0.000000   \n",
       " 43772  0.008048  0.250000  0.278689  0.781818  0.333333  0.395659  0.000000   \n",
       " 43773  0.010060  0.264706  0.262295  0.781818  0.333333  0.405588  0.000000   \n",
       " 43774  0.010060  0.264706  0.262295  0.781818  0.333333  0.413996  0.000000   \n",
       " 43775  0.008048  0.264706  0.245902  0.781818  0.333333  0.420866  0.000000   \n",
       " \n",
       "          7  \n",
       " 0      NaN  \n",
       " 1      0.0  \n",
       " 2      0.0  \n",
       " 3      0.0  \n",
       " 4      0.0  \n",
       " ...    ...  \n",
       " 43771  0.0  \n",
       " 43772  0.0  \n",
       " 43773  0.0  \n",
       " 43774  0.0  \n",
       " 43775  0.0  \n",
       " \n",
       " [43776 rows x 8 columns],\n",
       "               0         1         2         3         4         5         6  \\\n",
       " 0      0.090543  0.485294  0.213115  0.654547  0.666667  0.099308  0.148148   \n",
       " 1      0.063380  0.470588  0.213115  0.636364  0.666667  0.104657  0.185185   \n",
       " 2      0.065392  0.470588  0.196721  0.636364  0.666667  0.111527  0.222222   \n",
       " 3      0.055332  0.470588  0.196721  0.618183  0.666667  0.116876  0.259259   \n",
       " 4      0.065392  0.470588  0.196721  0.600000  0.666667  0.123746  0.296296   \n",
       " ...         ...       ...       ...       ...       ...       ...       ...   \n",
       " 43771  0.008048  0.250000  0.278689  0.781818  0.333333  0.395659  0.000000   \n",
       " 43772  0.010060  0.264706  0.262295  0.781818  0.333333  0.405588  0.000000   \n",
       " 43773  0.010060  0.264706  0.262295  0.781818  0.333333  0.413996  0.000000   \n",
       " 43774  0.008048  0.264706  0.245902  0.781818  0.333333  0.420866  0.000000   \n",
       " 43775  0.012072  0.279412  0.262295  0.781818  0.333333  0.426216  0.000000   \n",
       " \n",
       "          7  \n",
       " 0      0.0  \n",
       " 1      0.0  \n",
       " 2      0.0  \n",
       " 3      0.0  \n",
       " 4      0.0  \n",
       " ...    ...  \n",
       " 43771  0.0  \n",
       " 43772  0.0  \n",
       " 43773  0.0  \n",
       " 43774  0.0  \n",
       " 43775  0.0  \n",
       " \n",
       " [43776 rows x 8 columns],\n",
       "               0         1         2         3         4         5         6  \\\n",
       " 0      0.090543  0.485294  0.213115  0.654547  0.666667  0.099308  0.148148   \n",
       " 1      0.063380  0.470588  0.213115  0.636364  0.666667  0.104657  0.185185   \n",
       " 2      0.065392  0.470588  0.196721  0.636364  0.666667  0.111527  0.222222   \n",
       " 3      0.055332  0.470588  0.196721  0.618183  0.666667  0.116876  0.259259   \n",
       " 4      0.065392  0.470588  0.196721  0.600000  0.666667  0.123746  0.296296   \n",
       " ...         ...       ...       ...       ...       ...       ...       ...   \n",
       " 43771  0.008048  0.250000  0.278689  0.781818  0.333333  0.395659  0.000000   \n",
       " 43772  0.010060  0.264706  0.262295  0.781818  0.333333  0.405588  0.000000   \n",
       " 43773  0.010060  0.264706  0.262295  0.781818  0.333333  0.413996  0.000000   \n",
       " 43774  0.008048  0.264706  0.245902  0.781818  0.333333  0.420866  0.000000   \n",
       " 43775  0.012072  0.279412  0.262295  0.781818  0.333333  0.426216  0.000000   \n",
       " \n",
       "          7  \n",
       " 0      0.0  \n",
       " 1      0.0  \n",
       " 2      0.0  \n",
       " 3      0.0  \n",
       " 4      0.0  \n",
       " ...    ...  \n",
       " 43771  0.0  \n",
       " 43772  0.0  \n",
       " 43773  0.0  \n",
       " 43774  0.0  \n",
       " 43775  0.0  \n",
       " \n",
       " [43776 rows x 8 columns]]"
      ]
     },
     "execution_count": 37,
     "metadata": {},
     "output_type": "execute_result"
    }
   ],
   "source": [
    "cols"
   ]
  },
  {
   "cell_type": "code",
   "execution_count": 38,
   "metadata": {},
   "outputs": [
    {
     "data": {
      "text/plain": [
       "['var1(t-1)',\n",
       " 'var2(t-1)',\n",
       " 'var3(t-1)',\n",
       " 'var4(t-1)',\n",
       " 'var5(t-1)',\n",
       " 'var6(t-1)',\n",
       " 'var7(t-1)',\n",
       " 'var8(t-1)',\n",
       " 'var1(t)',\n",
       " 'var2(t)',\n",
       " 'var3(t)',\n",
       " 'var4(t)',\n",
       " 'var5(t)',\n",
       " 'var6(t)',\n",
       " 'var7(t)',\n",
       " 'var8(t)',\n",
       " 'var1(t)',\n",
       " 'var2(t)',\n",
       " 'var3(t)',\n",
       " 'var4(t)',\n",
       " 'var5(t)',\n",
       " 'var6(t)',\n",
       " 'var7(t)',\n",
       " 'var8(t)']"
      ]
     },
     "execution_count": 38,
     "metadata": {},
     "output_type": "execute_result"
    }
   ],
   "source": [
    "names"
   ]
  },
  {
   "cell_type": "code",
   "execution_count": 39,
   "metadata": {},
   "outputs": [
    {
     "data": {
      "text/html": [
       "<div>\n",
       "<style scoped>\n",
       "    .dataframe tbody tr th:only-of-type {\n",
       "        vertical-align: middle;\n",
       "    }\n",
       "\n",
       "    .dataframe tbody tr th {\n",
       "        vertical-align: top;\n",
       "    }\n",
       "\n",
       "    .dataframe thead th {\n",
       "        text-align: right;\n",
       "    }\n",
       "</style>\n",
       "<table border=\"1\" class=\"dataframe\">\n",
       "  <thead>\n",
       "    <tr style=\"text-align: right;\">\n",
       "      <th></th>\n",
       "      <th>var1(t-1)</th>\n",
       "      <th>var2(t-1)</th>\n",
       "      <th>var3(t-1)</th>\n",
       "      <th>var4(t-1)</th>\n",
       "      <th>var5(t-1)</th>\n",
       "      <th>var6(t-1)</th>\n",
       "      <th>var7(t-1)</th>\n",
       "      <th>var8(t-1)</th>\n",
       "      <th>var1(t)</th>\n",
       "      <th>var2(t)</th>\n",
       "      <th>...</th>\n",
       "      <th>var7(t)</th>\n",
       "      <th>var8(t)</th>\n",
       "      <th>var1(t)</th>\n",
       "      <th>var2(t)</th>\n",
       "      <th>var3(t)</th>\n",
       "      <th>var4(t)</th>\n",
       "      <th>var5(t)</th>\n",
       "      <th>var6(t)</th>\n",
       "      <th>var7(t)</th>\n",
       "      <th>var8(t)</th>\n",
       "    </tr>\n",
       "  </thead>\n",
       "  <tbody>\n",
       "    <tr>\n",
       "      <th>1</th>\n",
       "      <td>0.090543</td>\n",
       "      <td>0.485294</td>\n",
       "      <td>0.213115</td>\n",
       "      <td>0.654547</td>\n",
       "      <td>0.666667</td>\n",
       "      <td>0.099308</td>\n",
       "      <td>0.148148</td>\n",
       "      <td>0.0</td>\n",
       "      <td>0.063380</td>\n",
       "      <td>0.470588</td>\n",
       "      <td>...</td>\n",
       "      <td>0.185185</td>\n",
       "      <td>0.0</td>\n",
       "      <td>0.063380</td>\n",
       "      <td>0.470588</td>\n",
       "      <td>0.213115</td>\n",
       "      <td>0.636364</td>\n",
       "      <td>0.666667</td>\n",
       "      <td>0.104657</td>\n",
       "      <td>0.185185</td>\n",
       "      <td>0.0</td>\n",
       "    </tr>\n",
       "    <tr>\n",
       "      <th>2</th>\n",
       "      <td>0.063380</td>\n",
       "      <td>0.470588</td>\n",
       "      <td>0.213115</td>\n",
       "      <td>0.636364</td>\n",
       "      <td>0.666667</td>\n",
       "      <td>0.104657</td>\n",
       "      <td>0.185185</td>\n",
       "      <td>0.0</td>\n",
       "      <td>0.065392</td>\n",
       "      <td>0.470588</td>\n",
       "      <td>...</td>\n",
       "      <td>0.222222</td>\n",
       "      <td>0.0</td>\n",
       "      <td>0.065392</td>\n",
       "      <td>0.470588</td>\n",
       "      <td>0.196721</td>\n",
       "      <td>0.636364</td>\n",
       "      <td>0.666667</td>\n",
       "      <td>0.111527</td>\n",
       "      <td>0.222222</td>\n",
       "      <td>0.0</td>\n",
       "    </tr>\n",
       "    <tr>\n",
       "      <th>3</th>\n",
       "      <td>0.065392</td>\n",
       "      <td>0.470588</td>\n",
       "      <td>0.196721</td>\n",
       "      <td>0.636364</td>\n",
       "      <td>0.666667</td>\n",
       "      <td>0.111527</td>\n",
       "      <td>0.222222</td>\n",
       "      <td>0.0</td>\n",
       "      <td>0.055332</td>\n",
       "      <td>0.470588</td>\n",
       "      <td>...</td>\n",
       "      <td>0.259259</td>\n",
       "      <td>0.0</td>\n",
       "      <td>0.055332</td>\n",
       "      <td>0.470588</td>\n",
       "      <td>0.196721</td>\n",
       "      <td>0.618183</td>\n",
       "      <td>0.666667</td>\n",
       "      <td>0.116876</td>\n",
       "      <td>0.259259</td>\n",
       "      <td>0.0</td>\n",
       "    </tr>\n",
       "    <tr>\n",
       "      <th>4</th>\n",
       "      <td>0.055332</td>\n",
       "      <td>0.470588</td>\n",
       "      <td>0.196721</td>\n",
       "      <td>0.618183</td>\n",
       "      <td>0.666667</td>\n",
       "      <td>0.116876</td>\n",
       "      <td>0.259259</td>\n",
       "      <td>0.0</td>\n",
       "      <td>0.065392</td>\n",
       "      <td>0.470588</td>\n",
       "      <td>...</td>\n",
       "      <td>0.296296</td>\n",
       "      <td>0.0</td>\n",
       "      <td>0.065392</td>\n",
       "      <td>0.470588</td>\n",
       "      <td>0.196721</td>\n",
       "      <td>0.600000</td>\n",
       "      <td>0.666667</td>\n",
       "      <td>0.123746</td>\n",
       "      <td>0.296296</td>\n",
       "      <td>0.0</td>\n",
       "    </tr>\n",
       "    <tr>\n",
       "      <th>5</th>\n",
       "      <td>0.065392</td>\n",
       "      <td>0.470588</td>\n",
       "      <td>0.196721</td>\n",
       "      <td>0.600000</td>\n",
       "      <td>0.666667</td>\n",
       "      <td>0.123746</td>\n",
       "      <td>0.296296</td>\n",
       "      <td>0.0</td>\n",
       "      <td>0.083501</td>\n",
       "      <td>0.455882</td>\n",
       "      <td>...</td>\n",
       "      <td>0.333333</td>\n",
       "      <td>0.0</td>\n",
       "      <td>0.083501</td>\n",
       "      <td>0.455882</td>\n",
       "      <td>0.180328</td>\n",
       "      <td>0.600000</td>\n",
       "      <td>0.666667</td>\n",
       "      <td>0.130616</td>\n",
       "      <td>0.333333</td>\n",
       "      <td>0.0</td>\n",
       "    </tr>\n",
       "    <tr>\n",
       "      <th>...</th>\n",
       "      <td>...</td>\n",
       "      <td>...</td>\n",
       "      <td>...</td>\n",
       "      <td>...</td>\n",
       "      <td>...</td>\n",
       "      <td>...</td>\n",
       "      <td>...</td>\n",
       "      <td>...</td>\n",
       "      <td>...</td>\n",
       "      <td>...</td>\n",
       "      <td>...</td>\n",
       "      <td>...</td>\n",
       "      <td>...</td>\n",
       "      <td>...</td>\n",
       "      <td>...</td>\n",
       "      <td>...</td>\n",
       "      <td>...</td>\n",
       "      <td>...</td>\n",
       "      <td>...</td>\n",
       "      <td>...</td>\n",
       "      <td>...</td>\n",
       "    </tr>\n",
       "    <tr>\n",
       "      <th>43771</th>\n",
       "      <td>0.010060</td>\n",
       "      <td>0.264706</td>\n",
       "      <td>0.278689</td>\n",
       "      <td>0.763638</td>\n",
       "      <td>0.333333</td>\n",
       "      <td>0.385730</td>\n",
       "      <td>0.000000</td>\n",
       "      <td>0.0</td>\n",
       "      <td>0.008048</td>\n",
       "      <td>0.250000</td>\n",
       "      <td>...</td>\n",
       "      <td>0.000000</td>\n",
       "      <td>0.0</td>\n",
       "      <td>0.008048</td>\n",
       "      <td>0.250000</td>\n",
       "      <td>0.278689</td>\n",
       "      <td>0.781818</td>\n",
       "      <td>0.333333</td>\n",
       "      <td>0.395659</td>\n",
       "      <td>0.000000</td>\n",
       "      <td>0.0</td>\n",
       "    </tr>\n",
       "    <tr>\n",
       "      <th>43772</th>\n",
       "      <td>0.008048</td>\n",
       "      <td>0.250000</td>\n",
       "      <td>0.278689</td>\n",
       "      <td>0.781818</td>\n",
       "      <td>0.333333</td>\n",
       "      <td>0.395659</td>\n",
       "      <td>0.000000</td>\n",
       "      <td>0.0</td>\n",
       "      <td>0.010060</td>\n",
       "      <td>0.264706</td>\n",
       "      <td>...</td>\n",
       "      <td>0.000000</td>\n",
       "      <td>0.0</td>\n",
       "      <td>0.010060</td>\n",
       "      <td>0.264706</td>\n",
       "      <td>0.262295</td>\n",
       "      <td>0.781818</td>\n",
       "      <td>0.333333</td>\n",
       "      <td>0.405588</td>\n",
       "      <td>0.000000</td>\n",
       "      <td>0.0</td>\n",
       "    </tr>\n",
       "    <tr>\n",
       "      <th>43773</th>\n",
       "      <td>0.010060</td>\n",
       "      <td>0.264706</td>\n",
       "      <td>0.262295</td>\n",
       "      <td>0.781818</td>\n",
       "      <td>0.333333</td>\n",
       "      <td>0.405588</td>\n",
       "      <td>0.000000</td>\n",
       "      <td>0.0</td>\n",
       "      <td>0.010060</td>\n",
       "      <td>0.264706</td>\n",
       "      <td>...</td>\n",
       "      <td>0.000000</td>\n",
       "      <td>0.0</td>\n",
       "      <td>0.010060</td>\n",
       "      <td>0.264706</td>\n",
       "      <td>0.262295</td>\n",
       "      <td>0.781818</td>\n",
       "      <td>0.333333</td>\n",
       "      <td>0.413996</td>\n",
       "      <td>0.000000</td>\n",
       "      <td>0.0</td>\n",
       "    </tr>\n",
       "    <tr>\n",
       "      <th>43774</th>\n",
       "      <td>0.010060</td>\n",
       "      <td>0.264706</td>\n",
       "      <td>0.262295</td>\n",
       "      <td>0.781818</td>\n",
       "      <td>0.333333</td>\n",
       "      <td>0.413996</td>\n",
       "      <td>0.000000</td>\n",
       "      <td>0.0</td>\n",
       "      <td>0.008048</td>\n",
       "      <td>0.264706</td>\n",
       "      <td>...</td>\n",
       "      <td>0.000000</td>\n",
       "      <td>0.0</td>\n",
       "      <td>0.008048</td>\n",
       "      <td>0.264706</td>\n",
       "      <td>0.245902</td>\n",
       "      <td>0.781818</td>\n",
       "      <td>0.333333</td>\n",
       "      <td>0.420866</td>\n",
       "      <td>0.000000</td>\n",
       "      <td>0.0</td>\n",
       "    </tr>\n",
       "    <tr>\n",
       "      <th>43775</th>\n",
       "      <td>0.008048</td>\n",
       "      <td>0.264706</td>\n",
       "      <td>0.245902</td>\n",
       "      <td>0.781818</td>\n",
       "      <td>0.333333</td>\n",
       "      <td>0.420866</td>\n",
       "      <td>0.000000</td>\n",
       "      <td>0.0</td>\n",
       "      <td>0.012072</td>\n",
       "      <td>0.279412</td>\n",
       "      <td>...</td>\n",
       "      <td>0.000000</td>\n",
       "      <td>0.0</td>\n",
       "      <td>0.012072</td>\n",
       "      <td>0.279412</td>\n",
       "      <td>0.262295</td>\n",
       "      <td>0.781818</td>\n",
       "      <td>0.333333</td>\n",
       "      <td>0.426216</td>\n",
       "      <td>0.000000</td>\n",
       "      <td>0.0</td>\n",
       "    </tr>\n",
       "  </tbody>\n",
       "</table>\n",
       "<p>43775 rows × 24 columns</p>\n",
       "</div>"
      ],
      "text/plain": [
       "       var1(t-1)  var2(t-1)  var3(t-1)  var4(t-1)  var5(t-1)  var6(t-1)  \\\n",
       "1       0.090543   0.485294   0.213115   0.654547   0.666667   0.099308   \n",
       "2       0.063380   0.470588   0.213115   0.636364   0.666667   0.104657   \n",
       "3       0.065392   0.470588   0.196721   0.636364   0.666667   0.111527   \n",
       "4       0.055332   0.470588   0.196721   0.618183   0.666667   0.116876   \n",
       "5       0.065392   0.470588   0.196721   0.600000   0.666667   0.123746   \n",
       "...          ...        ...        ...        ...        ...        ...   \n",
       "43771   0.010060   0.264706   0.278689   0.763638   0.333333   0.385730   \n",
       "43772   0.008048   0.250000   0.278689   0.781818   0.333333   0.395659   \n",
       "43773   0.010060   0.264706   0.262295   0.781818   0.333333   0.405588   \n",
       "43774   0.010060   0.264706   0.262295   0.781818   0.333333   0.413996   \n",
       "43775   0.008048   0.264706   0.245902   0.781818   0.333333   0.420866   \n",
       "\n",
       "       var7(t-1)  var8(t-1)   var1(t)   var2(t)  ...   var7(t)  var8(t)  \\\n",
       "1       0.148148        0.0  0.063380  0.470588  ...  0.185185      0.0   \n",
       "2       0.185185        0.0  0.065392  0.470588  ...  0.222222      0.0   \n",
       "3       0.222222        0.0  0.055332  0.470588  ...  0.259259      0.0   \n",
       "4       0.259259        0.0  0.065392  0.470588  ...  0.296296      0.0   \n",
       "5       0.296296        0.0  0.083501  0.455882  ...  0.333333      0.0   \n",
       "...          ...        ...       ...       ...  ...       ...      ...   \n",
       "43771   0.000000        0.0  0.008048  0.250000  ...  0.000000      0.0   \n",
       "43772   0.000000        0.0  0.010060  0.264706  ...  0.000000      0.0   \n",
       "43773   0.000000        0.0  0.010060  0.264706  ...  0.000000      0.0   \n",
       "43774   0.000000        0.0  0.008048  0.264706  ...  0.000000      0.0   \n",
       "43775   0.000000        0.0  0.012072  0.279412  ...  0.000000      0.0   \n",
       "\n",
       "        var1(t)   var2(t)   var3(t)   var4(t)   var5(t)   var6(t)   var7(t)  \\\n",
       "1      0.063380  0.470588  0.213115  0.636364  0.666667  0.104657  0.185185   \n",
       "2      0.065392  0.470588  0.196721  0.636364  0.666667  0.111527  0.222222   \n",
       "3      0.055332  0.470588  0.196721  0.618183  0.666667  0.116876  0.259259   \n",
       "4      0.065392  0.470588  0.196721  0.600000  0.666667  0.123746  0.296296   \n",
       "5      0.083501  0.455882  0.180328  0.600000  0.666667  0.130616  0.333333   \n",
       "...         ...       ...       ...       ...       ...       ...       ...   \n",
       "43771  0.008048  0.250000  0.278689  0.781818  0.333333  0.395659  0.000000   \n",
       "43772  0.010060  0.264706  0.262295  0.781818  0.333333  0.405588  0.000000   \n",
       "43773  0.010060  0.264706  0.262295  0.781818  0.333333  0.413996  0.000000   \n",
       "43774  0.008048  0.264706  0.245902  0.781818  0.333333  0.420866  0.000000   \n",
       "43775  0.012072  0.279412  0.262295  0.781818  0.333333  0.426216  0.000000   \n",
       "\n",
       "       var8(t)  \n",
       "1          0.0  \n",
       "2          0.0  \n",
       "3          0.0  \n",
       "4          0.0  \n",
       "5          0.0  \n",
       "...        ...  \n",
       "43771      0.0  \n",
       "43772      0.0  \n",
       "43773      0.0  \n",
       "43774      0.0  \n",
       "43775      0.0  \n",
       "\n",
       "[43775 rows x 24 columns]"
      ]
     },
     "execution_count": 39,
     "metadata": {},
     "output_type": "execute_result"
    }
   ],
   "source": [
    "# put it all together\n",
    "agg = pd.concat(cols, axis=1)\n",
    "agg.columns = names\n",
    "# drop rows with NaN values\n",
    "if dropnan:\n",
    "    agg.dropna(inplace=True)\n",
    "agg"
   ]
  },
  {
   "cell_type": "markdown",
   "metadata": {},
   "source": [
    "#### <span style=\"color:blue\">The following code creates a plot for each series to give us better underestanding of the dataset:</span>"
   ]
  },
  {
   "cell_type": "code",
   "execution_count": 40,
   "metadata": {},
   "outputs": [
    {
     "data": {
      "text/plain": [
       "<Figure size 432x288 with 0 Axes>"
      ]
     },
     "metadata": {},
     "output_type": "display_data"
    },
    {
     "data": {
      "image/png": "[encoded data removed]",
      "text/plain": [
       "<Figure size 1080x1080 with 1 Axes>"
      ]
     },
     "metadata": {
      "needs_background": "light"
     },
     "output_type": "display_data"
    },
    {
     "data": {
      "image/png": "[encoded data removed]",
      "text/plain": [
       "<Figure size 1080x1080 with 1 Axes>"
      ]
     },
     "metadata": {
      "needs_background": "light"
     },
     "output_type": "display_data"
    },
    {
     "data": {
      "image/png": "[encoded data removed]",
      "text/plain": [
       "<Figure size 1080x1080 with 1 Axes>"
      ]
     },
     "metadata": {
      "needs_background": "light"
     },
     "output_type": "display_data"
    },
    {
     "data": {
      "image/png": "[encoded data removed]",
      "text/plain": [
       "<Figure size 1080x1080 with 1 Axes>"
      ]
     },
     "metadata": {
      "needs_background": "light"
     },
     "output_type": "display_data"
    },
    {
     "data": {
      "image/png": "[encoded data removed]",
      "text/plain": [
       "<Figure size 1080x1080 with 1 Axes>"
      ]
     },
     "metadata": {
      "needs_background": "light"
     },
     "output_type": "display_data"
    },
    {
     "data": {
      "image/png": "[encoded data removed]",
      "text/plain": [
       "<Figure size 1080x1080 with 1 Axes>"
      ]
     },
     "metadata": {
      "needs_background": "light"
     },
     "output_type": "display_data"
    },
    {
     "data": {
      "image/png": "[encoded data removed]",
      "text/plain": [
       "<Figure size 1080x1080 with 1 Axes>"
      ]
     },
     "metadata": {
      "needs_background": "light"
     },
     "output_type": "display_data"
    }
   ],
   "source": [
    "from matplotlib import pyplot as plt\n",
    "values = dataset.values\n",
    "features = [0, 1, 2, 3, 5, 6, 7]\n",
    "i = 1\n",
    "# plot each column\n",
    "plt.figure()\n",
    "for feature in features:\n",
    "    fig = plt.figure(figsize=(15, 15))\n",
    "    plt.subplot(len(features), 1, i)\n",
    "    plt.plot(values[:, feature], color = 'brown')\n",
    "    plt.title(dataset.columns[feature], color = 'darkblue', y=0.7, loc='left')\n",
    "    i += 1"
   ]
  },
  {
   "cell_type": "markdown",
   "metadata": {},
   "source": [
    "#### <span style=\"color:blue\">The following code creates a plot for each series to give us better underestanding of the dataset:</span>"
   ]
  },
  {
   "cell_type": "code",
   "execution_count": 41,
   "metadata": {},
   "outputs": [],
   "source": [
    "import pandas as pd\n",
    "from sklearn import preprocessing\n",
    "from sklearn.preprocessing import MinMaxScaler\n",
    "# convert series to supervised learning\n",
    "def create_series(data, n_in=1, n_out=1, dropnan=True):\n",
    "    n_vars = 1 if type(data) is list else data.shape[1]\n",
    "    df = pd.DataFrame(data)\n",
    "    cols, names = list(), list()\n",
    "    # input sequence (t-n, ... t-1)\n",
    "    for i in range(n_in, 0, -1):\n",
    "        cols.append(df.shift(i))\n",
    "        names += [('var%d(t-%d)' % (j+1, i)) for j in range(n_vars)]\n",
    "    # forecast sequence (t, t+1, ... t+n)\n",
    "    for i in range(0, n_out):\n",
    "        cols.append(df.shift(-i))\n",
    "        if i == 0:\n",
    "            names += [('var%d(t)' % (j+1)) for j in range(n_vars)]\n",
    "        else:\n",
    "            names += [('var%d(t+%d)' % (j+1, i)) for j in range(n_vars)]\n",
    "    # put it all together\n",
    "    agg = pd.concat(cols, axis=1)\n",
    "    agg.columns = names\n",
    "    # drop rows with NaN values\n",
    "    if dropnan:\n",
    "        agg.dropna(inplace=True)\n",
    "    return agg\n",
    " \n",
    "# load dataset\n",
    "dataset = read_csv('pollution.csv', header=0, index_col=0)\n",
    "values = dataset.values\n",
    "# integer encode direction\n",
    "encoder = preprocessing.LabelEncoder()\n",
    "values[:,4] = encoder.fit_transform(values[:,4])\n",
    "values = values.astype('float32')\n",
    "# normalize features\n",
    "scaler = MinMaxScaler(feature_range=(0, 1))\n",
    "scaled = scaler.fit_transform(values)\n",
    "# frame as supervised learning\n",
    "reframed = create_series(scaled, 1, 1)\n",
    "# drop unnecessary \n",
    "reframed.drop(reframed.columns[[9,10,11,12,13,14,15]], axis=1, inplace=True)\n"
   ]
  },
  {
   "cell_type": "code",
   "execution_count": 42,
   "metadata": {},
   "outputs": [
    {
     "data": {
      "text/html": [
       "<div>\n",
       "<style scoped>\n",
       "    .dataframe tbody tr th:only-of-type {\n",
       "        vertical-align: middle;\n",
       "    }\n",
       "\n",
       "    .dataframe tbody tr th {\n",
       "        vertical-align: top;\n",
       "    }\n",
       "\n",
       "    .dataframe thead th {\n",
       "        text-align: right;\n",
       "    }\n",
       "</style>\n",
       "<table border=\"1\" class=\"dataframe\">\n",
       "  <thead>\n",
       "    <tr style=\"text-align: right;\">\n",
       "      <th></th>\n",
       "      <th>var1(t-1)</th>\n",
       "      <th>var2(t-1)</th>\n",
       "      <th>var3(t-1)</th>\n",
       "      <th>var4(t-1)</th>\n",
       "      <th>var5(t-1)</th>\n",
       "      <th>var6(t-1)</th>\n",
       "      <th>var7(t-1)</th>\n",
       "      <th>var8(t-1)</th>\n",
       "      <th>var1(t)</th>\n",
       "    </tr>\n",
       "  </thead>\n",
       "  <tbody>\n",
       "    <tr>\n",
       "      <th>1</th>\n",
       "      <td>0.090543</td>\n",
       "      <td>0.485294</td>\n",
       "      <td>0.213115</td>\n",
       "      <td>0.654547</td>\n",
       "      <td>0.666667</td>\n",
       "      <td>0.099308</td>\n",
       "      <td>0.148148</td>\n",
       "      <td>0.0</td>\n",
       "      <td>0.063380</td>\n",
       "    </tr>\n",
       "    <tr>\n",
       "      <th>2</th>\n",
       "      <td>0.063380</td>\n",
       "      <td>0.470588</td>\n",
       "      <td>0.213115</td>\n",
       "      <td>0.636364</td>\n",
       "      <td>0.666667</td>\n",
       "      <td>0.104657</td>\n",
       "      <td>0.185185</td>\n",
       "      <td>0.0</td>\n",
       "      <td>0.065392</td>\n",
       "    </tr>\n",
       "    <tr>\n",
       "      <th>3</th>\n",
       "      <td>0.065392</td>\n",
       "      <td>0.470588</td>\n",
       "      <td>0.196721</td>\n",
       "      <td>0.636364</td>\n",
       "      <td>0.666667</td>\n",
       "      <td>0.111527</td>\n",
       "      <td>0.222222</td>\n",
       "      <td>0.0</td>\n",
       "      <td>0.055332</td>\n",
       "    </tr>\n",
       "    <tr>\n",
       "      <th>4</th>\n",
       "      <td>0.055332</td>\n",
       "      <td>0.470588</td>\n",
       "      <td>0.196721</td>\n",
       "      <td>0.618183</td>\n",
       "      <td>0.666667</td>\n",
       "      <td>0.116876</td>\n",
       "      <td>0.259259</td>\n",
       "      <td>0.0</td>\n",
       "      <td>0.065392</td>\n",
       "    </tr>\n",
       "    <tr>\n",
       "      <th>5</th>\n",
       "      <td>0.065392</td>\n",
       "      <td>0.470588</td>\n",
       "      <td>0.196721</td>\n",
       "      <td>0.600000</td>\n",
       "      <td>0.666667</td>\n",
       "      <td>0.123746</td>\n",
       "      <td>0.296296</td>\n",
       "      <td>0.0</td>\n",
       "      <td>0.083501</td>\n",
       "    </tr>\n",
       "    <tr>\n",
       "      <th>...</th>\n",
       "      <td>...</td>\n",
       "      <td>...</td>\n",
       "      <td>...</td>\n",
       "      <td>...</td>\n",
       "      <td>...</td>\n",
       "      <td>...</td>\n",
       "      <td>...</td>\n",
       "      <td>...</td>\n",
       "      <td>...</td>\n",
       "    </tr>\n",
       "    <tr>\n",
       "      <th>43771</th>\n",
       "      <td>0.010060</td>\n",
       "      <td>0.264706</td>\n",
       "      <td>0.278689</td>\n",
       "      <td>0.763638</td>\n",
       "      <td>0.333333</td>\n",
       "      <td>0.385730</td>\n",
       "      <td>0.000000</td>\n",
       "      <td>0.0</td>\n",
       "      <td>0.008048</td>\n",
       "    </tr>\n",
       "    <tr>\n",
       "      <th>43772</th>\n",
       "      <td>0.008048</td>\n",
       "      <td>0.250000</td>\n",
       "      <td>0.278689</td>\n",
       "      <td>0.781818</td>\n",
       "      <td>0.333333</td>\n",
       "      <td>0.395659</td>\n",
       "      <td>0.000000</td>\n",
       "      <td>0.0</td>\n",
       "      <td>0.010060</td>\n",
       "    </tr>\n",
       "    <tr>\n",
       "      <th>43773</th>\n",
       "      <td>0.010060</td>\n",
       "      <td>0.264706</td>\n",
       "      <td>0.262295</td>\n",
       "      <td>0.781818</td>\n",
       "      <td>0.333333</td>\n",
       "      <td>0.405588</td>\n",
       "      <td>0.000000</td>\n",
       "      <td>0.0</td>\n",
       "      <td>0.010060</td>\n",
       "    </tr>\n",
       "    <tr>\n",
       "      <th>43774</th>\n",
       "      <td>0.010060</td>\n",
       "      <td>0.264706</td>\n",
       "      <td>0.262295</td>\n",
       "      <td>0.781818</td>\n",
       "      <td>0.333333</td>\n",
       "      <td>0.413996</td>\n",
       "      <td>0.000000</td>\n",
       "      <td>0.0</td>\n",
       "      <td>0.008048</td>\n",
       "    </tr>\n",
       "    <tr>\n",
       "      <th>43775</th>\n",
       "      <td>0.008048</td>\n",
       "      <td>0.264706</td>\n",
       "      <td>0.245902</td>\n",
       "      <td>0.781818</td>\n",
       "      <td>0.333333</td>\n",
       "      <td>0.420866</td>\n",
       "      <td>0.000000</td>\n",
       "      <td>0.0</td>\n",
       "      <td>0.012072</td>\n",
       "    </tr>\n",
       "  </tbody>\n",
       "</table>\n",
       "<p>43775 rows × 9 columns</p>\n",
       "</div>"
      ],
      "text/plain": [
       "       var1(t-1)  var2(t-1)  var3(t-1)  var4(t-1)  var5(t-1)  var6(t-1)  \\\n",
       "1       0.090543   0.485294   0.213115   0.654547   0.666667   0.099308   \n",
       "2       0.063380   0.470588   0.213115   0.636364   0.666667   0.104657   \n",
       "3       0.065392   0.470588   0.196721   0.636364   0.666667   0.111527   \n",
       "4       0.055332   0.470588   0.196721   0.618183   0.666667   0.116876   \n",
       "5       0.065392   0.470588   0.196721   0.600000   0.666667   0.123746   \n",
       "...          ...        ...        ...        ...        ...        ...   \n",
       "43771   0.010060   0.264706   0.278689   0.763638   0.333333   0.385730   \n",
       "43772   0.008048   0.250000   0.278689   0.781818   0.333333   0.395659   \n",
       "43773   0.010060   0.264706   0.262295   0.781818   0.333333   0.405588   \n",
       "43774   0.010060   0.264706   0.262295   0.781818   0.333333   0.413996   \n",
       "43775   0.008048   0.264706   0.245902   0.781818   0.333333   0.420866   \n",
       "\n",
       "       var7(t-1)  var8(t-1)   var1(t)  \n",
       "1       0.148148        0.0  0.063380  \n",
       "2       0.185185        0.0  0.065392  \n",
       "3       0.222222        0.0  0.055332  \n",
       "4       0.259259        0.0  0.065392  \n",
       "5       0.296296        0.0  0.083501  \n",
       "...          ...        ...       ...  \n",
       "43771   0.000000        0.0  0.008048  \n",
       "43772   0.000000        0.0  0.010060  \n",
       "43773   0.000000        0.0  0.010060  \n",
       "43774   0.000000        0.0  0.008048  \n",
       "43775   0.000000        0.0  0.012072  \n",
       "\n",
       "[43775 rows x 9 columns]"
      ]
     },
     "execution_count": 42,
     "metadata": {},
     "output_type": "execute_result"
    }
   ],
   "source": [
    "reframed"
   ]
  },
  {
   "cell_type": "markdown",
   "metadata": {},
   "source": [
    "#### <span style=\"color:blue\">The following code splits the dataset into training and testing sets, then it reshapes the dataset into  3D format that is needed to use LSTM:</span>"
   ]
  },
  {
   "cell_type": "markdown",
   "metadata": {},
   "source": [
    "<img src=\"files/3Dinput.jpg\">"
   ]
  },
  {
   "cell_type": "code",
   "execution_count": 44,
   "metadata": {},
   "outputs": [
    {
     "data": {
      "text/plain": [
       "array([[0.09054326, 0.48529413, 0.21311474, ..., 0.14814815, 0.        ,\n",
       "        0.06338028],\n",
       "       [0.06338028, 0.47058827, 0.21311474, ..., 0.1851852 , 0.        ,\n",
       "        0.06539235],\n",
       "       [0.06539235, 0.47058827, 0.1967213 , ..., 0.22222222, 0.        ,\n",
       "        0.05533199],\n",
       "       ...,\n",
       "       [0.07645875, 0.36764708, 0.22950819, ..., 0.        , 0.        ,\n",
       "        0.07645875],\n",
       "       [0.07645875, 0.36764708, 0.21311474, ..., 0.        , 0.        ,\n",
       "        0.06740443],\n",
       "       [0.06740443, 0.36764708, 0.21311474, ..., 0.        , 0.        ,\n",
       "        0.06539235]], dtype=float32)"
      ]
     },
     "execution_count": 44,
     "metadata": {},
     "output_type": "execute_result"
    }
   ],
   "source": [
    "values = reframed.values\n",
    "n_train_hours = 365 * 24\n",
    "train = values[:n_train_hours, :]\n",
    "test = values[n_train_hours:, :]\n",
    "train"
   ]
  },
  {
   "cell_type": "code",
   "execution_count": 48,
   "metadata": {},
   "outputs": [
    {
     "data": {
      "text/plain": [
       "(8760, 9)"
      ]
     },
     "execution_count": 48,
     "metadata": {},
     "output_type": "execute_result"
    }
   ],
   "source": [
    "train.shape"
   ]
  },
  {
   "cell_type": "code",
   "execution_count": 49,
   "metadata": {},
   "outputs": [
    {
     "name": "stdout",
     "output_type": "stream",
     "text": [
      "(8760, 1, 8) (8760,) (35015, 1, 8) (35015,)\n"
     ]
    }
   ],
   "source": [
    "values = reframed.values\n",
    "n_train_hours = 365 * 24\n",
    "train = values[:n_train_hours, :]\n",
    "test = values[n_train_hours:, :]\n",
    "# split into input and outputs\n",
    "train_X, train_y = train[:, :-1], train[:, -1]\n",
    "test_X, test_y = test[:, :-1], test[:, -1]\n",
    "# reshape input to be 3D [samples, timesteps, features]\n",
    "train_X = train_X.reshape((train_X.shape[0], 1, train_X.shape[1]))\n",
    "test_X = test_X.reshape((test_X.shape[0], 1, test_X.shape[1]))\n",
    "print(train_X.shape, train_y.shape, test_X.shape, test_y.shape)"
   ]
  },
  {
   "cell_type": "code",
   "execution_count": 50,
   "metadata": {},
   "outputs": [
    {
     "data": {
      "text/plain": [
       "array([[90.0, -7, -6.0, ..., 58.56, 4, 0],\n",
       "       [63.0, -8, -6.0, ..., 61.69, 5, 0],\n",
       "       [65.0, -8, -7.0, ..., 65.71, 6, 0],\n",
       "       ...,\n",
       "       [10.0, -22, -3.0, ..., 242.7, 0, 0],\n",
       "       [8.0, -22, -4.0, ..., 246.72, 0, 0],\n",
       "       [12.0, -21, -3.0, ..., 249.85, 0, 0]], dtype=object)"
      ]
     },
     "execution_count": 50,
     "metadata": {},
     "output_type": "execute_result"
    }
   ],
   "source": [
    "dataset = read_csv('pollution.csv', header=0, index_col=0)\n",
    "values = dataset.values\n",
    "values"
   ]
  },
  {
   "cell_type": "code",
   "execution_count": 51,
   "metadata": {},
   "outputs": [],
   "source": [
    "# integer encode direction\n",
    "encoder = preprocessing.LabelEncoder()\n",
    "values[:,4] = encoder.fit_transform(values[:,4])\n",
    "values = values.astype('float32')\n",
    "# normalize features\n",
    "scaler = MinMaxScaler(feature_range=(0, 1))\n",
    "scaled = scaler.fit_transform(values)\n",
    "# frame as supervised learning\n",
    "reframed = create_series(scaled, 1, 1)\n",
    "# drop unnecessary \n",
    "reframed.drop(reframed.columns[[9,10,11,12,13,14,15]], axis=1, inplace=True)"
   ]
  },
  {
   "cell_type": "code",
   "execution_count": 52,
   "metadata": {},
   "outputs": [
    {
     "data": {
      "text/plain": [
       "1"
      ]
     },
     "execution_count": 52,
     "metadata": {},
     "output_type": "execute_result"
    }
   ],
   "source": [
    "train_X.shape[1]"
   ]
  },
  {
   "cell_type": "code",
   "execution_count": 54,
   "metadata": {},
   "outputs": [
    {
     "data": {
      "text/plain": [
       "8"
      ]
     },
     "execution_count": 54,
     "metadata": {},
     "output_type": "execute_result"
    }
   ],
   "source": [
    "train_X.shape[2]"
   ]
  },
  {
   "cell_type": "markdown",
   "metadata": {},
   "source": [
    "#### <span style=\"color:blue\">The following code creates the LSTM model which cnsists of a LSTM layer with 100 neurons and a dense layer:</span>"
   ]
  },
  {
   "cell_type": "code",
   "execution_count": 10,
   "metadata": {},
   "outputs": [
    {
     "name": "stderr",
     "output_type": "stream",
     "text": [
      "C:\\Users\\BRG_user\\AppData\\Local\\conda\\conda\\envs\\deeplearning\\lib\\site-packages\\h5py\\__init__.py:36: FutureWarning: Conversion of the second argument of issubdtype from `float` to `np.floating` is deprecated. In future, it will be treated as `np.float64 == np.dtype(float).type`.\n",
      "  from ._conv import register_converters as _register_converters\n",
      "Using TensorFlow backend.\n"
     ]
    },
    {
     "name": "stdout",
     "output_type": "stream",
     "text": [
      "Train on 8760 samples, validate on 35039 samples\n",
      "Epoch 1/20\n",
      " - 1s - loss: 0.0528 - val_loss: 0.0476\n",
      "Epoch 2/20\n",
      " - 0s - loss: 0.0335 - val_loss: 0.0474\n",
      "Epoch 3/20\n",
      " - 1s - loss: 0.0207 - val_loss: 0.0432\n",
      "Epoch 4/20\n",
      " - 0s - loss: 0.0175 - val_loss: 0.0346\n",
      "Epoch 5/20\n",
      " - 1s - loss: 0.0159 - val_loss: 0.0227\n",
      "Epoch 6/20\n",
      " - 1s - loss: 0.0150 - val_loss: 0.0182\n",
      "Epoch 7/20\n",
      " - 1s - loss: 0.0148 - val_loss: 0.0177\n",
      "Epoch 8/20\n",
      " - 1s - loss: 0.0149 - val_loss: 0.0164\n",
      "Epoch 9/20\n",
      " - 0s - loss: 0.0149 - val_loss: 0.0158\n",
      "Epoch 10/20\n",
      " - 1s - loss: 0.0147 - val_loss: 0.0151\n",
      "Epoch 11/20\n",
      " - 1s - loss: 0.0146 - val_loss: 0.0149\n",
      "Epoch 12/20\n",
      " - 0s - loss: 0.0147 - val_loss: 0.0146\n",
      "Epoch 13/20\n",
      " - 0s - loss: 0.0145 - val_loss: 0.0142\n",
      "Epoch 14/20\n",
      " - 0s - loss: 0.0145 - val_loss: 0.0139\n",
      "Epoch 15/20\n",
      " - 0s - loss: 0.0145 - val_loss: 0.0140\n",
      "Epoch 16/20\n",
      " - 1s - loss: 0.0145 - val_loss: 0.0140\n",
      "Epoch 17/20\n",
      " - 1s - loss: 0.0145 - val_loss: 0.0137\n",
      "Epoch 18/20\n",
      " - 1s - loss: 0.0145 - val_loss: 0.0138\n",
      "Epoch 19/20\n",
      " - 1s - loss: 0.0145 - val_loss: 0.0137\n",
      "Epoch 20/20\n",
      " - 1s - loss: 0.0144 - val_loss: 0.0136\n"
     ]
    },
    {
     "data": {
      "image/png": "[encoded data removed]",
      "text/plain": [
       "<Figure size 432x288 with 1 Axes>"
      ]
     },
     "metadata": {},
     "output_type": "display_data"
    }
   ],
   "source": [
    "# design network\n",
    "import matplotlib.pyplot as plt\n",
    "from keras.models import Sequential\n",
    "from keras.layers import Dense\n",
    "from keras.layers import LSTM\n",
    "model = Sequential()\n",
    "model.add(LSTM(50, input_shape=(train_X.shape[1], train_X.shape[2])))\n",
    "model.add(Dense(1))\n",
    "model.compile(loss='mae', optimizer='adam')\n",
    "# fit network\n",
    "history = model.fit(train_X, train_y, epochs=20, batch_size=72, validation_data=(test_X, test_y), verbose=2, shuffle=False)\n",
    "# plot history\n",
    "plt.plot(history.history['loss'], label='train')\n",
    "plt.plot(history.history['val_loss'], label='test')\n",
    "plt.legend()\n",
    "plt.show()"
   ]
  },
  {
   "cell_type": "markdown",
   "metadata": {},
   "source": [
    "#### <span style=\"color:blue\">Forecasting:</span>"
   ]
  },
  {
   "cell_type": "code",
   "execution_count": null,
   "metadata": {},
   "outputs": [],
   "source": [
    "yhat = model.predict(test_X)\n",
    "test_X = test_X.reshape((test_X.shape[0], test_X.shape[2]))\n",
    "# invert scaling for forecast\n",
    "inv_yhat = (yhat + test_X[:, 1:])\n",
    "inv_yhat = scaler.inverse_transform(inv_yhat)\n",
    "inv_yhat = inv_yhat[:,0]\n",
    "# invert scaling for actual\n",
    "test_y = test_y.reshape((len(test_y), 1))\n",
    "inv_y = concatenate((test_y, test_X[:, 1:]), axis=1)\n",
    "inv_y = scaler.inverse_transform(inv_y)\n",
    "inv_y = inv_y[:,0]\n",
    "# calculate RMSE\n",
    "rmse = sqrt(mean_squared_error(inv_y, inv_yhat))\n",
    "print('Test RMSE: %.3f' % rmse)"
   ]
  },
  {
   "cell_type": "markdown",
   "metadata": {},
   "source": []
  }
 ],
 "metadata": {
  "kernelspec": {
   "display_name": "Python 3",
   "language": "python",
   "name": "python3"
  },
  "language_info": {
   "codemirror_mode": {
    "name": "ipython",
    "version": 3
   },
   "file_extension": ".py",
   "mimetype": "text/x-python",
   "name": "python",
   "nbconvert_exporter": "python",
   "pygments_lexer": "ipython3",
   "version": "3.8.10"
  }
 },
 "nbformat": 4,
 "nbformat_minor": 2
}
