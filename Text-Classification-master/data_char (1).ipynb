{
 "cells": [
  {
   "cell_type": "markdown",
   "metadata": {},
   "source": [
    "### Required Libraries\n",
    "- qgrid to display tables interactively\n",
    "    - run following two commands in order to enable qgrid\n",
    "    - pip install qgrid\n",
    "    - jupyter nbextension enable --py --sys-prefix qgrid\n",
    "- seaborn for visualization\n",
    "    - pip install seaborn\n",
    "- nltk for simple nlp tasks\n",
    "    - pip install nltk\n",
    "    - you may need to downlaod its data using nltk.download()"
   ]
  },
  {
   "cell_type": "code",
   "execution_count": 6,
   "metadata": {},
   "outputs": [],
   "source": [
    "import pandas as pd\n",
    "import qgrid\n",
    "import seaborn as sns\n",
    "import matplotlib.pyplot as plt\n",
    "import nltk\n",
    "import numpy as np\n",
    "sns.set_style(\"ticks\")\n",
    "sns.set_style(\"whitegrid\")"
   ]
  },
  {
   "cell_type": "code",
   "execution_count": 7,
   "metadata": {},
   "outputs": [],
   "source": [
    "df = pd.read_csv(\"../dataset/A Sociolinguistic Study_May 4, 2019_18.52.csv\", skiprows=3)"
   ]
  },
  {
   "cell_type": "code",
   "execution_count": 9,
   "metadata": {},
   "outputs": [],
   "source": [
    "useful_columns = list(df.columns[17:34]) + list(df.columns[55:76])"
   ]
  },
  {
   "cell_type": "code",
   "execution_count": 11,
   "metadata": {},
   "outputs": [
    {
     "data": {
      "application/vnd.jupyter.widget-view+json": {
       "model_id": "6054bd7758c94229a556730be5fcd17d",
       "version_major": 2,
       "version_minor": 0
      },
      "text/plain": [
       "QgridWidget(grid_options={'fullWidthRows': True, 'syncColumnCellResize': True, 'forceFitColumns': True, 'defau…"
      ]
     },
     "metadata": {},
     "output_type": "display_data"
    }
   ],
   "source": [
    "qgrid_widget = qgrid.show_grid(df[useful_columnbs[30:40]], show_toolbar=True)\n",
    "qgrid_widget"
   ]
  },
  {
   "cell_type": "code",
   "execution_count": 12,
   "metadata": {},
   "outputs": [
    {
     "data": {
      "text/plain": [
       "['birth_year',\n",
       " 'is_us_born',\n",
       " 'parents_us_born',\n",
       " 'parents_state',\n",
       " 'parents_degree',\n",
       " 'is_homeschooled',\n",
       " 'gpa',\n",
       " 'school_year',\n",
       " 'ideal_degree',\n",
       " 'is_grad_seeking',\n",
       " 'grad_if_job_offer',\n",
       " 'gender_pronoun',\n",
       " 'sexual_orient',\n",
       " 'political_identity',\n",
       " 'for_group',\n",
       " 'against_group',\n",
       " 'undecided_group',\n",
       " 'news_hour',\n",
       " 'news_source',\n",
       " 'is_vote_important',\n",
       " 'news_reliabality',\n",
       " 'politics_rank',\n",
       " 'sports_rank',\n",
       " 'crime_rank',\n",
       " 'local_news_rank',\n",
       " 'world_news_rank',\n",
       " 'entertainment_rank',\n",
       " 'news_informability',\n",
       " 'vote_eligibility',\n",
       " 'did_vote',\n",
       " 'voted_for_candidate',\n",
       " 'will_vote_2020',\n",
       " '2016_feeling',\n",
       " '2016_atmosphere',\n",
       " 'feeling_1',\n",
       " 'feeling_2',\n",
       " 'feeling_3',\n",
       " 'rhetoric_question']"
      ]
     },
     "execution_count": 12,
     "metadata": {},
     "output_type": "execute_result"
    }
   ],
   "source": [
    "useful_columns"
   ]
  },
  {
   "cell_type": "code",
   "execution_count": 13,
   "metadata": {},
   "outputs": [
    {
     "data": {
      "text/plain": [
       "0    I was upset and angry about the election of so...\n",
       "1    i don't care about politics and think it is al...\n",
       "2    I feel like the country will see a change rega...\n",
       "3    Very happy with the turnout. Not so much for t...\n",
       "4    I feel surprised, but glad that Hillary Clinto...\n",
       "Name: 2016_feeling, dtype: object"
      ]
     },
     "execution_count": 13,
     "metadata": {},
     "output_type": "execute_result"
    }
   ],
   "source": [
    "df['2016_feeling'].head()"
   ]
  },
  {
   "cell_type": "code",
   "execution_count": 14,
   "metadata": {},
   "outputs": [],
   "source": [
    "def word_count(text):\n",
    "    return len(text.split())"
   ]
  },
  {
   "cell_type": "code",
   "execution_count": 18,
   "metadata": {},
   "outputs": [],
   "source": [
    "df['word_count'] = df['2016_feeling'].apply(word_count) + df['2016_atmosphere'].apply(word_count)"
   ]
  },
  {
   "cell_type": "code",
   "execution_count": 19,
   "metadata": {},
   "outputs": [
    {
     "data": {
      "text/plain": [
       "count    185.000000\n",
       "mean      77.200000\n",
       "std       38.537503\n",
       "min        2.000000\n",
       "25%       51.000000\n",
       "50%       67.000000\n",
       "75%       93.000000\n",
       "max      237.000000\n",
       "Name: word_count, dtype: float64"
      ]
     },
     "execution_count": 19,
     "metadata": {},
     "output_type": "execute_result"
    }
   ],
   "source": [
    "df['word_count'].describe()"
   ]
  },
  {
   "cell_type": "code",
   "execution_count": 22,
   "metadata": {},
   "outputs": [
    {
     "data": {
      "text/plain": [
       "185"
      ]
     },
     "execution_count": 22,
     "metadata": {},
     "output_type": "execute_result"
    }
   ],
   "source": [
    "len(df)"
   ]
  },
  {
   "cell_type": "markdown",
   "metadata": {},
   "source": [
    "### Visualization1: \n",
    "- Distribution of GPA for different groups.\n",
    "- Following figure is the summary distribution of students' gpa for two groups: homeschooled students vs non-homeschooled students.\n",
    "- As figure below illustrates, those who were homeschooled are more successful in obtaining higher GPA."
   ]
  },
  {
   "cell_type": "code",
   "execution_count": 5,
   "metadata": {},
   "outputs": [
    {
     "data": {
      "image/png": "[encoded data removed]",
      "text/plain": [
       "<Figure size 494.125x360 with 1 Axes>"
      ]
     },
     "metadata": {},
     "output_type": "display_data"
    }
   ],
   "source": [
    "sns.catplot(x=\"is_us_born\", y=\"gpa\", hue=\"parents_degree\", kind=\"bar\", data=df);"
   ]
  },
  {
   "cell_type": "code",
   "execution_count": null,
   "metadata": {},
   "outputs": [],
   "source": [
    "sns.boxplot(x='is_homeschooled',y='gpa', data=df)"
   ]
  },
  {
   "cell_type": "code",
   "execution_count": null,
   "metadata": {},
   "outputs": [],
   "source": [
    "sns.boxplot(x='gpa',y='gender_pronoun', data=df)"
   ]
  },
  {
   "cell_type": "markdown",
   "metadata": {},
   "source": [
    "### Finding the tense\n",
    "- find verb tenses based on https://www.ling.upenn.edu/courses/Fall_2003/ling001/penn_treebank_pos.html\n",
    "- nltk.word_tokenize converts string to a list of words (i.e., tokens).\n",
    "- nltk.pos_tag converts the list of tokens to a list of tokens and their associated parts of speech."
   ]
  },
  {
   "cell_type": "code",
   "execution_count": 29,
   "metadata": {},
   "outputs": [
    {
     "name": "stdout",
     "output_type": "stream",
     "text": [
      "My friends were angry and distressed about the world of a Donald Trump presidency. I am watching the election results come in at a friend's apartment.\n"
     ]
    }
   ],
   "source": [
    "past_tense_tags = ['VBD']\n",
    "present_tense_tags = ['VBP', 'VBZ']\n",
    "political_id_to_tense = {}\n",
    "for pol_id, feeling in zip(df['political_identity'], df['2016_atmosphere']):\n",
    "    print(feeling)\n",
    "    break\n",
    "    past_tense_count = 0\n",
    "    present_tense_count = 0\n",
    "    tokens = nltk.word_tokenize(feeling)\n",
    "    pos = nltk.pos_tag(tokens)\n",
    "    for pair in pos:\n",
    "        if pair[1] in past_tense_tags:\n",
    "            past_tense_count += 1\n",
    "        if pair[1] in present_tense_tags:\n",
    "            present_tense_count += 1\n",
    "    if pol_id not in political_id_to_tense:\n",
    "        political_id_to_tense[pol_id] = {'past_tense': past_tense_count, 'present_tense': present_tense_count}\n",
    "    else:\n",
    "        political_id_to_tense[pol_id]['past_tense'] += past_tense_count\n",
    "        political_id_to_tense[pol_id]['present_tense'] += present_tense_count"
   ]
  },
  {
   "cell_type": "code",
   "execution_count": 30,
   "metadata": {},
   "outputs": [
    {
     "data": {
      "text/plain": [
       "{}"
      ]
     },
     "execution_count": 30,
     "metadata": {},
     "output_type": "execute_result"
    }
   ],
   "source": [
    "political_id_to_tense"
   ]
  },
  {
   "cell_type": "code",
   "execution_count": 31,
   "metadata": {},
   "outputs": [],
   "source": [
    "for party, count in political_id_to_tense.items():\n",
    "    party_past = political_id_to_tense[party]['past_tense'] / sum(count.values())\n",
    "    party_present = political_id_to_tense[party]['present_tense'] / sum(count.values())\n",
    "    print('%.2f%% verbs %ss used were past tense and %.2f%% verbs were present tense.' % (party_past * 100, party, party_present * 100))"
   ]
  },
  {
   "cell_type": "markdown",
   "metadata": {},
   "source": [
    "### Observations:\n",
    "- The above approach is not accurate. We shouldn't count all verb tenses.\n",
    "- We should detect the tense per sentence which is tricky because a sentence may contain several verbs, modals, auxiliary verbs, etc. and/or have complex structure. \n",
    "- The best solution is to train a classifier for a binary (past/present) classification task.\n",
    "- There is a dataset called TimeBank that might be useful but it needs licensing (https://catalog.ldc.upenn.edu/LDC2006T08).\n",
    "- It's free so I registered to access the dataset but the process may take long.\n",
    "- Alternatvely, we can find the root verb (using Stanford parser) and assign its parts of speech tag to the whole sentence:\n",
    "    - To start Stanofrd CoreNLP:\n",
    "        - Download the package from: https://nlp.stanford.edu/software/stanford-corenlp-full-2018-10-05.zip\n",
    "        - navigate to the base directory and issue the following command: \n",
    "         `java -mx3g -cp \"*\" edu.stanford.nlp.pipeline.StanfordCoreNLPServer -timeout 5000`\n",
    "        - install pycorenlp package: pip install pycorenlp"
   ]
  },
  {
   "cell_type": "code",
   "execution_count": 2,
   "metadata": {},
   "outputs": [],
   "source": [
    "from pycorenlp import StanfordCoreNLP"
   ]
  },
  {
   "cell_type": "code",
   "execution_count": 54,
   "metadata": {},
   "outputs": [],
   "source": [
    "nlp = StanfordCoreNLP('http://localhost:9000')"
   ]
  },
  {
   "cell_type": "code",
   "execution_count": 55,
   "metadata": {},
   "outputs": [],
   "source": [
    "# test_text = \"about the world of a Donald Trump presidency.\"\n",
    "# test_text = \"I had certainly thought that he was going to win\"\n",
    "test_text = \"If it were any other individual I would have voted Democrat.\"\n",
    "# test_text = \"Lots of upset women over donald trump being president and people thinking they will be deported.\""
   ]
  },
  {
   "cell_type": "code",
   "execution_count": 87,
   "metadata": {},
   "outputs": [],
   "source": [
    "import json\n",
    "result = nlp.annotate(test_text, properties={'annotators': 'sentiment, pos', 'outputFormat': 'JSON'})\n",
    "result = json.loads(result)"
   ]
  },
  {
   "cell_type": "code",
   "execution_count": 88,
   "metadata": {},
   "outputs": [
    {
     "name": "stdout",
     "output_type": "stream",
     "text": [
      "Negative\n"
     ]
    }
   ],
   "source": [
    "print(result['sentences'][0]['sentiment'])"
   ]
  },
  {
   "cell_type": "markdown",
   "metadata": {},
   "source": [
    "### How to find the root verb from parse tree?\n",
    "- can we say root verb is the one closer to the ROOT of the parse tree?"
   ]
  },
  {
   "cell_type": "code",
   "execution_count": 89,
   "metadata": {},
   "outputs": [
    {
     "name": "stdout",
     "output_type": "stream",
     "text": [
      "                              ROOT                                             \n",
      "                               |                                                \n",
      "                               S                                               \n",
      "          _____________________|_____________________________________________   \n",
      "        SBAR                           |              VP                     | \n",
      "  _______|____                         |     _________|____                  |  \n",
      " |            S                        |    |              VP                | \n",
      " |    ________|___                     |    |     _________|____             |  \n",
      " |   |            VP                   |    |    |              VP           | \n",
      " |   |    ________|____                |    |    |          ____|_____       |  \n",
      " |   NP  |             NP              NP   |    |         |          NP     | \n",
      " |   |   |     ________|_______        |    |    |         |          |      |  \n",
      " IN PRP VBD   DT       JJ      JJ     PRP   MD   VB       VBN        NNP     . \n",
      " |   |   |    |        |       |       |    |    |         |          |      |  \n",
      " If  it were any     other individual  I  would have     voted     Democrat  . \n",
      "\n"
     ]
    }
   ],
   "source": [
    "from nltk.tree import Tree\n",
    "parsetree = Tree.fromstring(result['sentences'][0]['parse'])\n",
    "parsetree.pretty_print()"
   ]
  },
  {
   "cell_type": "code",
   "execution_count": 101,
   "metadata": {},
   "outputs": [],
   "source": [
    "parsetree.draw()"
   ]
  },
  {
   "cell_type": "markdown",
   "metadata": {},
   "source": [
    "#### Traverse the tree:"
   ]
  },
  {
   "cell_type": "code",
   "execution_count": 102,
   "metadata": {},
   "outputs": [],
   "source": [
    "root_verb = []\n",
    "modal_tag = None\n",
    "def traverse_tree(tree):\n",
    "    global root_verb\n",
    "    global modal_tag\n",
    "    for subtree in tree:\n",
    "        if type(subtree) == nltk.tree.Tree:\n",
    "            if subtree.label() == 'VP':\n",
    "                if subtree.pos()[0][1] == 'VB':\n",
    "                    if subtree.pos()[0][0] == 'have':\n",
    "                        traverse_tree(subtree)\n",
    "                    if modal_tag in ['could', 'would', 'might', 'had to']:\n",
    "                        root_verb.append((subtree.pos()[0][0], 'VBD'))\n",
    "                        modal_tag = None\n",
    "                        break\n",
    "                    elif modal_tag in ['can', 'must', 'will', 'may', 'should', 'have to', 'shall', 'ought to']:\n",
    "                        root_verb.append((subtree.pos()[0][0], 'VBP'))\n",
    "                        modal_tag = None\n",
    "                        break\n",
    "                    traverse_tree(subtree)\n",
    "                elif subtree.pos()[0][1] == 'VBN':\n",
    "                    if modal_tag in ['must', 'could', 'should', 'may', 'might', 'would']:\n",
    "                        root_verb.append((subtree.pos()[0][0], 'VBD'))\n",
    "                        modal_tag = None\n",
    "                        break\n",
    "                elif subtree.pos()[0][1] == 'VBD':\n",
    "                    root_verb.append((subtree.pos()[0][0], 'VBD'))\n",
    "                    break\n",
    "                elif subtree.pos()[0][1] == 'VBZ' or subtree.pos()[0][1] == 'VBP':\n",
    "                    if modal_tag in ['could', 'would', 'might', 'had to']:\n",
    "                        root_verb.append((subtree.pos()[0][0], 'VBD'))\n",
    "                        modal_tag = None\n",
    "                        break\n",
    "                    else:\n",
    "                        root_verb.append((subtree.pos()[0][0], 'VBP'))\n",
    "                        break\n",
    "                elif subtree.pos()[0][1] == 'MD':\n",
    "                    modal_tag = subtree.pos()[0][0]\n",
    "                    traverse_tree(subtree)\n",
    "            traverse_tree(subtree)"
   ]
  },
  {
   "cell_type": "code",
   "execution_count": 173,
   "metadata": {},
   "outputs": [
    {
     "name": "stdout",
     "output_type": "stream",
     "text": [
      "$: dollar\n",
      "    $ -$ --$ A$ C$ HK$ M$ NZ$ S$ U.S.$ US$\n",
      "'': closing quotation mark\n",
      "    ' ''\n",
      "(: opening parenthesis\n",
      "    ( [ {\n",
      "): closing parenthesis\n",
      "    ) ] }\n",
      ",: comma\n",
      "    ,\n",
      "--: dash\n",
      "    --\n",
      ".: sentence terminator\n",
      "    . ! ?\n",
      ":: colon or ellipsis\n",
      "    : ; ...\n",
      "CC: conjunction, coordinating\n",
      "    & 'n and both but either et for less minus neither nor or plus so\n",
      "    therefore times v. versus vs. whether yet\n",
      "CD: numeral, cardinal\n",
      "    mid-1890 nine-thirty forty-two one-tenth ten million 0.5 one forty-\n",
      "    seven 1987 twenty '79 zero two 78-degrees eighty-four IX '60s .025\n",
      "    fifteen 271,124 dozen quintillion DM2,000 ...\n",
      "DT: determiner\n",
      "    all an another any both del each either every half la many much nary\n",
      "    neither no some such that the them these this those\n",
      "EX: existential there\n",
      "    there\n",
      "FW: foreign word\n",
      "    gemeinschaft hund ich jeux habeas Haementeria Herr K'ang-si vous\n",
      "    lutihaw alai je jour objets salutaris fille quibusdam pas trop Monte\n",
      "    terram fiche oui corporis ...\n",
      "IN: preposition or conjunction, subordinating\n",
      "    astride among uppon whether out inside pro despite on by throughout\n",
      "    below within for towards near behind atop around if like until below\n",
      "    next into if beside ...\n",
      "JJ: adjective or numeral, ordinal\n",
      "    third ill-mannered pre-war regrettable oiled calamitous first separable\n",
      "    ectoplasmic battery-powered participatory fourth still-to-be-named\n",
      "    multilingual multi-disciplinary ...\n",
      "JJR: adjective, comparative\n",
      "    bleaker braver breezier briefer brighter brisker broader bumper busier\n",
      "    calmer cheaper choosier cleaner clearer closer colder commoner costlier\n",
      "    cozier creamier crunchier cuter ...\n",
      "JJS: adjective, superlative\n",
      "    calmest cheapest choicest classiest cleanest clearest closest commonest\n",
      "    corniest costliest crassest creepiest crudest cutest darkest deadliest\n",
      "    dearest deepest densest dinkiest ...\n",
      "LS: list item marker\n",
      "    A A. B B. C C. D E F First G H I J K One SP-44001 SP-44002 SP-44005\n",
      "    SP-44007 Second Third Three Two * a b c d first five four one six three\n",
      "    two\n",
      "MD: modal auxiliary\n",
      "    can cannot could couldn't dare may might must need ought shall should\n",
      "    shouldn't will would\n",
      "NN: noun, common, singular or mass\n",
      "    common-carrier cabbage knuckle-duster Casino afghan shed thermostat\n",
      "    investment slide humour falloff slick wind hyena override subhumanity\n",
      "    machinist ...\n",
      "NNP: noun, proper, singular\n",
      "    Motown Venneboerger Czestochwa Ranzer Conchita Trumplane Christos\n",
      "    Oceanside Escobar Kreisler Sawyer Cougar Yvette Ervin ODI Darryl CTCA\n",
      "    Shannon A.K.C. Meltex Liverpool ...\n",
      "NNPS: noun, proper, plural\n",
      "    Americans Americas Amharas Amityvilles Amusements Anarcho-Syndicalists\n",
      "    Andalusians Andes Andruses Angels Animals Anthony Antilles Antiques\n",
      "    Apache Apaches Apocrypha ...\n",
      "NNS: noun, common, plural\n",
      "    undergraduates scotches bric-a-brac products bodyguards facets coasts\n",
      "    divestitures storehouses designs clubs fragrances averages\n",
      "    subjectivists apprehensions muses factory-jobs ...\n",
      "PDT: pre-determiner\n",
      "    all both half many quite such sure this\n",
      "POS: genitive marker\n",
      "    ' 's\n",
      "PRP: pronoun, personal\n",
      "    hers herself him himself hisself it itself me myself one oneself ours\n",
      "    ourselves ownself self she thee theirs them themselves they thou thy us\n",
      "PRP$: pronoun, possessive\n",
      "    her his mine my our ours their thy your\n",
      "RB: adverb\n",
      "    occasionally unabatingly maddeningly adventurously professedly\n",
      "    stirringly prominently technologically magisterially predominately\n",
      "    swiftly fiscally pitilessly ...\n",
      "RBR: adverb, comparative\n",
      "    further gloomier grander graver greater grimmer harder harsher\n",
      "    healthier heavier higher however larger later leaner lengthier less-\n",
      "    perfectly lesser lonelier longer louder lower more ...\n",
      "RBS: adverb, superlative\n",
      "    best biggest bluntest earliest farthest first furthest hardest\n",
      "    heartiest highest largest least less most nearest second tightest worst\n",
      "RP: particle\n",
      "    aboard about across along apart around aside at away back before behind\n",
      "    by crop down ever fast for forth from go high i.e. in into just later\n",
      "    low more off on open out over per pie raising start teeth that through\n",
      "    under unto up up-pp upon whole with you\n",
      "SYM: symbol\n",
      "    % & ' '' ''. ) ). * + ,. < = > @ A[fj] U.S U.S.S.R * ** ***\n",
      "TO: \"to\" as preposition or infinitive marker\n",
      "    to\n",
      "UH: interjection\n",
      "    Goodbye Goody Gosh Wow Jeepers Jee-sus Hubba Hey Kee-reist Oops amen\n",
      "    huh howdy uh dammit whammo shucks heck anyways whodunnit honey golly\n",
      "    man baby diddle hush sonuvabitch ...\n",
      "VB: verb, base form\n",
      "    ask assemble assess assign assume atone attention avoid bake balkanize\n",
      "    bank begin behold believe bend benefit bevel beware bless boil bomb\n",
      "    boost brace break bring broil brush build ...\n",
      "VBD: verb, past tense\n",
      "    dipped pleaded swiped regummed soaked tidied convened halted registered\n",
      "    cushioned exacted snubbed strode aimed adopted belied figgered\n",
      "    speculated wore appreciated contemplated ...\n",
      "VBG: verb, present participle or gerund\n",
      "    telegraphing stirring focusing angering judging stalling lactating\n",
      "    hankerin' alleging veering capping approaching traveling besieging\n",
      "    encrypting interrupting erasing wincing ...\n",
      "VBN: verb, past participle\n",
      "    multihulled dilapidated aerosolized chaired languished panelized used\n",
      "    experimented flourished imitated reunifed factored condensed sheared\n",
      "    unsettled primed dubbed desired ...\n",
      "VBP: verb, present tense, not 3rd person singular\n",
      "    predominate wrap resort sue twist spill cure lengthen brush terminate\n",
      "    appear tend stray glisten obtain comprise detest tease attract\n",
      "    emphasize mold postpone sever return wag ...\n",
      "VBZ: verb, present tense, 3rd person singular\n",
      "    bases reconstructs marks mixes displeases seals carps weaves snatches\n",
      "    slumps stretches authorizes smolders pictures emerges stockpiles\n",
      "    seduces fizzes uses bolsters slaps speaks pleads ...\n",
      "WDT: WH-determiner\n",
      "    that what whatever which whichever\n",
      "WP: WH-pronoun\n",
      "    that what whatever whatsoever which who whom whosoever\n",
      "WP$: WH-pronoun, possessive\n",
      "    whose\n",
      "WRB: Wh-adverb\n",
      "    how however whence whenever where whereby whereever wherein whereof why\n",
      "``: opening quotation mark\n",
      "    ` ``\n"
     ]
    }
   ],
   "source": [
    "nltk.help.upenn_tagset()"
   ]
  },
  {
   "cell_type": "code",
   "execution_count": 103,
   "metadata": {},
   "outputs": [
    {
     "data": {
      "text/plain": [
       "[('were', 'VBD'), ('voted', 'VBD')]"
      ]
     },
     "execution_count": 103,
     "metadata": {},
     "output_type": "execute_result"
    }
   ],
   "source": [
    "traverse_tree(parsetree)\n",
    "root_verb"
   ]
  },
  {
   "cell_type": "markdown",
   "metadata": {},
   "source": [
    "### Putting it all together"
   ]
  },
  {
   "cell_type": "code",
   "execution_count": 105,
   "metadata": {},
   "outputs": [],
   "source": [
    "total_tense = []\n",
    "for atmosphere, feeling in zip(df['2016_atmosphere'], df['2016_feeling']):\n",
    "    root_verb = []\n",
    "    result = nlp.annotate(atmosphere, properties={'annotators': 'sentiment, pos', 'outputFormat': 'json'})\n",
    "    result = json.loads(result)\n",
    "    for sentence in result['sentences']:\n",
    "        parsetree = Tree.fromstring(sentence['parse'])\n",
    "        traverse_tree(parsetree)\n",
    "    result = nlp.annotate(feeling, properties={'annotators': 'sentiment, pos', 'outputFormat': 'json'})\n",
    "    result = json.loads(result)\n",
    "    for sentence in result['sentences']:\n",
    "        parsetree = Tree.fromstring(sentence['parse'])\n",
    "        traverse_tree(parsetree)\n",
    "    total_tense.append(root_verb)"
   ]
  },
  {
   "cell_type": "code",
   "execution_count": 106,
   "metadata": {},
   "outputs": [],
   "source": [
    "df['total_tense'] = total_tense"
   ]
  },
  {
   "cell_type": "code",
   "execution_count": 107,
   "metadata": {},
   "outputs": [
    {
     "data": {
      "application/vnd.jupyter.widget-view+json": {
       "model_id": "8453620dc8e94f3c9ece538d4a683635",
       "version_major": 2,
       "version_minor": 0
      },
      "text/plain": [
       "QgridWidget(grid_options={'fullWidthRows': True, 'syncColumnCellResize': True, 'forceFitColumns': True, 'defau…"
      ]
     },
     "metadata": {},
     "output_type": "display_data"
    }
   ],
   "source": [
    "qgrid_widget = qgrid.show_grid(df[['2016_atmosphere', '2016_feeling', 'total_tense']], show_toolbar=True)\n",
    "qgrid_widget\n"
   ]
  },
  {
   "cell_type": "markdown",
   "metadata": {},
   "source": [
    "### Observations:\n",
    "- I think this approach yeilds a better result\n",
    "- MD tag (modal) is very common and it could mean both past or present (TODO) -> Done\n",
    "- We should address RB tag (adverb), we should address adverbs in the tree traverse (TODO) -> Done\n",
    "- I also added VB tag (base form of the verb) to the present tense.\n",
    "\n",
    "Now we have to decide how to convert sentence tense to a measure:\n",
    "- Content of the feeling column could have multiple sentences. How to decide which tense the student is using?\n",
    "- Several options:\n",
    "    1. option1) Majority tense if no major tense, pick the last tense \n",
    "    2. option2) Undefined -> yields to too many unknowns!\n",
    "    3. option3) Considering the temporal inconsistency (choices of different verb tenses in the sentences of a single narrative) as a seperate measure i.e. the brokenness of the narrative. \n",
    "    4. option4) measure the ratio of present over past\n",
    "    5. option5) identify the sentiment"
   ]
  },
  {
   "cell_type": "code",
   "execution_count": 182,
   "metadata": {},
   "outputs": [],
   "source": [
    "# #option4\n",
    "\n",
    "# ratio_list = []\n",
    "# ratio_list_inverse = []\n",
    "# for tense_list in df['total_tense']:\n",
    "#     past_count = 0.0\n",
    "#     present_count = 0.0\n",
    "#     for tense in tense_list:\n",
    "#         if tense[1] == 'VBD' or tense[1] == 'VBN':\n",
    "#             past_count += 1\n",
    "#         if tense[1] == 'VBP' or tense[1] == 'VPZ':\n",
    "#             present_count += 1\n",
    "#     if past_count + present_count == 0:\n",
    "#         ratio_list.append(0)\n",
    "#         ratio_list_inverse.append(0)\n",
    "#     else:\n",
    "#         ratio_list.append((present_count) / (past_count + present_count))\n",
    "#         ratio_list_inverse.append((past_count) / (past_count + present_count))"
   ]
  },
  {
   "cell_type": "code",
   "execution_count": 189,
   "metadata": {},
   "outputs": [],
   "source": [
    "#option4\n",
    "\n",
    "past_count_list = []\n",
    "present_count_list = []\n",
    "for tense_list in df['total_tense']:\n",
    "    past_count = 0.0\n",
    "    present_count = 0.0\n",
    "    for tense in tense_list:\n",
    "        if tense[1] == 'VBD' or tense[1] == 'VBN':\n",
    "            past_count += 1\n",
    "        if tense[1] == 'VBP' or tense[1] == 'VPZ':\n",
    "            present_count += 1\n",
    "    past_count_list.append(past_count)\n",
    "    present_count_list.append(present_count)\n",
    "#     if past_count + present_count == 0:\n",
    "#         ratio_list.append(0)\n",
    "#         ratio_list_inverse.append(0)\n",
    "#     else:\n",
    "#         ratio_list.append((present_count) / (past_count + present_count))\n",
    "#         ratio_list_inverse.append((past_count) / (past_count + present_count))"
   ]
  },
  {
   "cell_type": "code",
   "execution_count": 190,
   "metadata": {},
   "outputs": [],
   "source": [
    "df['past_count'] = past_count_list"
   ]
  },
  {
   "cell_type": "code",
   "execution_count": 191,
   "metadata": {},
   "outputs": [],
   "source": [
    "df['present_count'] = present_count_list"
   ]
  },
  {
   "cell_type": "code",
   "execution_count": 192,
   "metadata": {},
   "outputs": [],
   "source": [
    "past_count_mean = df['past_count'].mean()"
   ]
  },
  {
   "cell_type": "code",
   "execution_count": 194,
   "metadata": {},
   "outputs": [],
   "source": [
    "past_count_std = df['past_count'].std()"
   ]
  },
  {
   "cell_type": "code",
   "execution_count": 196,
   "metadata": {},
   "outputs": [],
   "source": [
    "present_count_mean = df['present_count'].mean()"
   ]
  },
  {
   "cell_type": "code",
   "execution_count": 197,
   "metadata": {},
   "outputs": [],
   "source": [
    "present_count_std = df['present_count'].std()"
   ]
  },
  {
   "cell_type": "code",
   "execution_count": 198,
   "metadata": {},
   "outputs": [],
   "source": [
    "present_count_normal = [(x-present_count_mean)/present_count_std for x in present_count_list]"
   ]
  },
  {
   "cell_type": "code",
   "execution_count": 199,
   "metadata": {},
   "outputs": [],
   "source": [
    "past_count_normal = [(x-past_count_mean)/past_count_std for x in past_count_list]"
   ]
  },
  {
   "cell_type": "code",
   "execution_count": 200,
   "metadata": {},
   "outputs": [],
   "source": [
    "df['present2past'] = [x/y for x, y in zip(present_count_normal, past_count_normal)]"
   ]
  },
  {
   "cell_type": "code",
   "execution_count": 201,
   "metadata": {},
   "outputs": [],
   "source": [
    "lr = df[df['political_identity'] == 'Liberal']['present2past']"
   ]
  },
  {
   "cell_type": "code",
   "execution_count": 202,
   "metadata": {},
   "outputs": [],
   "source": [
    "cr = df[df['political_identity'] == 'Conservative']['present2past']"
   ]
  },
  {
   "cell_type": "code",
   "execution_count": null,
   "metadata": {},
   "outputs": [],
   "source": []
  },
  {
   "cell_type": "code",
   "execution_count": 184,
   "metadata": {},
   "outputs": [],
   "source": [
    "df['pr_total_ratio'] = ratio_list\n",
    "#df['pa_total_ratio'] = ratio_list_inverse"
   ]
  },
  {
   "cell_type": "code",
   "execution_count": 185,
   "metadata": {},
   "outputs": [],
   "source": [
    "lr = df[df['political_identity'] == 'Liberal']['pr_total_ratio']\n",
    "lr_sorted = np.sort(lr)\n",
    "plr = 1. * np.arange(len(lr)) / (len(lr) - 1)\n",
    "\n",
    "cr = df[df['political_identity'] == 'Conservative']['pr_total_ratio']\n",
    "cr_sorted = np.sort(cr)\n",
    "pcr = 1. * np.arange(len(cr)) / (len(cr) - 1)\n",
    "\n",
    "otr = df[df['political_identity'] == 'Other']['pr_total_ratio']\n",
    "otr_sorted = np.sort(otr)\n",
    "potr = 1. * np.arange(len(otr)) / (len(otr) - 1)"
   ]
  },
  {
   "cell_type": "code",
   "execution_count": 203,
   "metadata": {},
   "outputs": [
    {
     "data": {
      "image/png": "[encoded data removed]",
      "text/plain": [
       "<Figure size 432x288 with 1 Axes>"
      ]
     },
     "metadata": {},
     "output_type": "display_data"
    }
   ],
   "source": [
    "fig, ax = plt.subplots()\n",
    "# sns.histplot(lr, label='Liberal')\n",
    "sns.histplot(cr, label='Conservative', stat=\"probability\")\n",
    "plt.legend()\n",
    "plt.show()"
   ]
  },
  {
   "cell_type": "code",
   "execution_count": 204,
   "metadata": {},
   "outputs": [
    {
     "data": {
      "image/png": "[encoded data removed]",
      "text/plain": [
       "<Figure size 432x288 with 1 Axes>"
      ]
     },
     "metadata": {},
     "output_type": "display_data"
    }
   ],
   "source": [
    "fig, ax = plt.subplots()\n",
    "sns.histplot(lr, label='Liberal', stat=\"probability\")\n",
    "# sns.histplot(cr, label='Conservative')\n",
    "plt.legend()\n",
    "plt.show()"
   ]
  },
  {
   "cell_type": "code",
   "execution_count": 144,
   "metadata": {},
   "outputs": [],
   "source": [
    "import numpy as np\n",
    "x = np.random.randn(100)"
   ]
  },
  {
   "cell_type": "code",
   "execution_count": 146,
   "metadata": {},
   "outputs": [
    {
     "name": "stderr",
     "output_type": "stream",
     "text": [
      "/home/saed/.local/lib/python3.9/site-packages/seaborn/distributions.py:2557: FutureWarning: `distplot` is a deprecated function and will be removed in a future version. Please adapt your code to use either `displot` (a figure-level function with similar flexibility) or `histplot` (an axes-level function for histograms).\n",
      "  warnings.warn(msg, FutureWarning)\n"
     ]
    },
    {
     "data": {
      "text/plain": [
       "<AxesSubplot:ylabel='Density'>"
      ]
     },
     "execution_count": 146,
     "metadata": {},
     "output_type": "execute_result"
    },
    {
     "data": {
      "image/png": "[encoded data removed]",
      "text/plain": [
       "<Figure size 432x288 with 1 Axes>"
      ]
     },
     "metadata": {},
     "output_type": "display_data"
    }
   ],
   "source": [
    "sns.distplot(x)"
   ]
  },
  {
   "cell_type": "code",
   "execution_count": 160,
   "metadata": {
    "scrolled": true
   },
   "outputs": [
    {
     "name": "stderr",
     "output_type": "stream",
     "text": [
      "/home/saed/.local/lib/python3.9/site-packages/seaborn/_decorators.py:36: FutureWarning: Pass the following variables as keyword args: x, y. From version 0.12, the only valid positional argument will be `data`, and passing other arguments without an explicit keyword will result in an error or misinterpretation.\n",
      "  warnings.warn(\n",
      "/home/saed/.local/lib/python3.9/site-packages/seaborn/_decorators.py:36: FutureWarning: Pass the following variables as keyword args: x, y. From version 0.12, the only valid positional argument will be `data`, and passing other arguments without an explicit keyword will result in an error or misinterpretation.\n",
      "  warnings.warn(\n"
     ]
    },
    {
     "data": {
      "image/png": "[encoded data removed]",
      "text/plain": [
       "<Figure size 432x288 with 1 Axes>"
      ]
     },
     "metadata": {},
     "output_type": "display_data"
    }
   ],
   "source": [
    "fig, ax = plt.subplots()\n",
    "sns.lineplot(tuple(lr_sorted), plr, ax=ax, label='Liberal')\n",
    "sns.lineplot(tuple(cr_sorted), pcr, ax=ax, label='Conservative')\n",
    "# sns.lineplot(tuple(otr_sorted), potr, ax=ax, label='Other')\n",
    "# ax.set_yscale('log')\n",
    "# plt.xlim(1e0, 1e5)\n",
    "# plt.ylim(0,1)\n",
    "plt.xlabel(\"Present to Past Ratio\")\n",
    "plt.ylabel(\"Cumulative Distribution Function (CDF)\")\n",
    "plt.show()"
   ]
  },
  {
   "cell_type": "code",
   "execution_count": 141,
   "metadata": {},
   "outputs": [
    {
     "name": "stderr",
     "output_type": "stream",
     "text": [
      "/home/saed/.local/lib/python3.9/site-packages/seaborn/distributions.py:2557: FutureWarning: `distplot` is a deprecated function and will be removed in a future version. Please adapt your code to use either `displot` (a figure-level function with similar flexibility) or `kdeplot` (an axes-level function for kernel density plots).\n",
      "  warnings.warn(msg, FutureWarning)\n",
      "/home/saed/.local/lib/python3.9/site-packages/seaborn/distributions.py:2557: FutureWarning: `distplot` is a deprecated function and will be removed in a future version. Please adapt your code to use either `displot` (a figure-level function with similar flexibility) or `kdeplot` (an axes-level function for kernel density plots).\n",
      "  warnings.warn(msg, FutureWarning)\n"
     ]
    },
    {
     "data": {
      "image/png": "[encoded data removed]",
      "text/plain": [
       "<Figure size 432x288 with 1 Axes>"
      ]
     },
     "metadata": {},
     "output_type": "display_data"
    }
   ],
   "source": [
    "fig, ax = plt.subplots()\n",
    "sns.distplot(lr, label='Liberal', hist=False)\n",
    "sns.distplot(cr, label='Conservative', hist=False)\n",
    "# ax.set_yscale('log')\n",
    "# plt.xlim(1e0, 1e5)\n",
    "# plt.ylim(0,1)\n",
    "plt.xlabel(\"Present to Past Ratio\")\n",
    "plt.ylabel(\"Probability Distribution Function (PDF)\")\n",
    "plt.show()"
   ]
  },
  {
   "cell_type": "code",
   "execution_count": 112,
   "metadata": {},
   "outputs": [
    {
     "data": {
      "text/plain": [
       "<AxesSubplot:xlabel='political_identity', ylabel='pr_total_ratio'>"
      ]
     },
     "execution_count": 112,
     "metadata": {},
     "output_type": "execute_result"
    },
    {
     "data": {
      "image/png": "[encoded data removed]",
      "text/plain": [
       "<Figure size 432x288 with 1 Axes>"
      ]
     },
     "metadata": {},
     "output_type": "display_data"
    }
   ],
   "source": [
    "fig, ax = plt.subplots()\n",
    "ax.set_yscale('log')\n",
    "sns.boxplot(x='political_identity', y='pr_total_ratio', data=df)"
   ]
  },
  {
   "cell_type": "code",
   "execution_count": 113,
   "metadata": {},
   "outputs": [],
   "source": [
    "# option 3\n",
    "brokenness_score = []\n",
    "for tense_list in df['total_tense']:\n",
    "    if len(tense_list) == 0:\n",
    "        brokenness_score.append(0)\n",
    "    elif len(tense_list) == 1:\n",
    "        brokenness_score.append(0)\n",
    "    else:\n",
    "        score = 0.0\n",
    "        current_tense = tense_list[0][1]\n",
    "        for tense in tense_list[1:]:\n",
    "            if tense[1] != current_tense:\n",
    "                score += 1\n",
    "                current_tense = tense[1]\n",
    "        brokenness_score.append(score / len(tense_list))"
   ]
  },
  {
   "cell_type": "code",
   "execution_count": 114,
   "metadata": {},
   "outputs": [],
   "source": [
    "df['brokenness'] = brokenness_score"
   ]
  },
  {
   "cell_type": "code",
   "execution_count": 116,
   "metadata": {},
   "outputs": [],
   "source": [
    "# option 5\n",
    "total_sentiment = []\n",
    "for atmosphere, feeling in zip(df['2016_atmosphere'], df['2016_feeling']):\n",
    "    sentiment_list = []\n",
    "    result = nlp.annotate(atmosphere, properties={'annotators': 'sentiment, pos', 'outputFormat': 'json'})\n",
    "    result = json.loads(result)\n",
    "    for sentence in result['sentences']:\n",
    "        sentiment_list.append(sentence['sentiment'])\n",
    "        result = nlp.annotate(feeling, properties={'annotators': 'sentiment, pos', 'outputFormat': 'json'})\n",
    "        result = json.loads(result)\n",
    "    for sentence in result['sentences']:\n",
    "        sentiment_list.append(sentence['sentiment'])\n",
    "\n",
    "    total_sentiment.append(sentiment_list)\n",
    "    "
   ]
  },
  {
   "cell_type": "code",
   "execution_count": 117,
   "metadata": {},
   "outputs": [],
   "source": [
    "df['sentiment'] = total_sentiment"
   ]
  },
  {
   "cell_type": "code",
   "execution_count": 118,
   "metadata": {},
   "outputs": [
    {
     "data": {
      "application/vnd.jupyter.widget-view+json": {
       "model_id": "54173670a6ed45c8bb2ab055d581d6b1",
       "version_major": 2,
       "version_minor": 0
      },
      "text/plain": [
       "QgridWidget(grid_options={'fullWidthRows': True, 'syncColumnCellResize': True, 'forceFitColumns': True, 'defau…"
      ]
     },
     "metadata": {},
     "output_type": "display_data"
    }
   ],
   "source": [
    "qgrid_widget = qgrid.show_grid(df[['2016_atmosphere', '2016_feeling', 'sentiment']], show_toolbar=True)\n",
    "qgrid_widget"
   ]
  },
  {
   "cell_type": "markdown",
   "metadata": {},
   "source": [
    "## political leaning"
   ]
  },
  {
   "cell_type": "markdown",
   "metadata": {},
   "source": [
    "### How to decide if a person is liberal or conservative?\n",
    "- Here is one naive approach: \n",
    "    1. define a scale for political leaning for example from -7 to 7 (-7 most conservative, and 7 most liberal)\n",
    "    2. categorize issues into liberal (1) and conservative (-1) \n",
    "        - Abortion Rights: 1\n",
    "        - Public healthcare: 1\n",
    "        - Strict gun control: 1\n",
    "        - Strict immigration law: -1\n",
    "        - LGBTQ rights: 1\n",
    "        - Black live matters: 1\n",
    "        - Climate change denials: -1\n",
    "    3. set weight for each group for example 1 for for_group and -1 for against group\n",
    "    4. obtain a measure for each person based on following $\\sum\\limits_{g}\\sum\\limits_{i} i\\times g$ where $i$ is the issue score and $g$ is the group weight.\n",
    "    5. set a threshold for decision for example 0\n",
    "\n",
    "\n",
    "- Example: following setting would results in a measure of 2 for row 40\n",
    "    - for_group: LGBTQ rights `1 * 1 = 1`\n",
    "    - against_group: climate change denials `-1 * -1 = 1`\n",
    "    - `final_score = 1 + 1 = 2`\n",
    "    - if the threshold is 0 then this person is liberal.\n",
    "- Question1: what do we do with undecided issues?\n",
    "- Question2: can we add weights to different issues? for example *LGBTQ rights* could have more weight than *public strict immigration law*."
   ]
  },
  {
   "cell_type": "code",
   "execution_count": 119,
   "metadata": {},
   "outputs": [],
   "source": [
    "issue_weight = {'Public Healthcare': 1,\n",
    "                'Black Lives Matter': 1,\n",
    "                'Abortion Rights': 1,\n",
    "                'Strict Gun Control': 1,\n",
    "                'LGBTQ Rights': 1,\n",
    "                'Strict Immigration Laws': -1,\n",
    "                'Climate Change Denials': -1}"
   ]
  },
  {
   "cell_type": "code",
   "execution_count": 120,
   "metadata": {},
   "outputs": [],
   "source": [
    "political_leaning_score = []\n",
    "political_leaning = []\n",
    "for fors, againsts in zip(df['for_group'], df['against_group']):\n",
    "    score = 0\n",
    "    try:\n",
    "        for f in fors.split(','):\n",
    "            score += issue_weight[f] * 1\n",
    "        for a in againsts.split(','):\n",
    "            score += issue_weight[a] * -1\n",
    "    except AttributeError:\n",
    "        pass\n",
    "    political_leaning_score.append(score)\n",
    "    if score >= 0:\n",
    "        political_leaning.append('Liberal')\n",
    "    else:\n",
    "        political_leaning.append('Conservative')"
   ]
  },
  {
   "cell_type": "code",
   "execution_count": 121,
   "metadata": {},
   "outputs": [],
   "source": [
    "df['political_leaning_score'] = political_leaning_score\n",
    "df['political_leaning'] = political_leaning"
   ]
  },
  {
   "cell_type": "markdown",
   "metadata": {},
   "source": [
    "### Relation between political_identity and political_leaning_score"
   ]
  },
  {
   "cell_type": "code",
   "execution_count": 214,
   "metadata": {
    "scrolled": true
   },
   "outputs": [
    {
     "data": {
      "image/png": "[encoded data removed]",
      "text/plain": [
       "<Figure size 432x288 with 1 Axes>"
      ]
     },
     "metadata": {},
     "output_type": "display_data"
    }
   ],
   "source": [
    "sns.boxplot(x='political_identity', y='political_leaning_score', data=df)\n",
    "plt.xlabel(\"Political Identity\")\n",
    "plt.ylabel(\"Political Leaning Score\")\n",
    "plt.savefig('../plots/political_leaning_plot.png', format= 'png', dpi=300)"
   ]
  },
  {
   "cell_type": "markdown",
   "metadata": {},
   "source": [
    "### observations:\n",
    "- there is a positive correlation betweeen the self-reported political identity and the score we obtained.\n",
    "- Those who recognize themselves as Conservatives, are all over the place in terms of critical issues.\n",
    "- Those who identified themselves as Other, tend to be more Liberal.\n",
    "- Using this approach number of conservatives would be very small"
   ]
  },
  {
   "cell_type": "markdown",
   "metadata": {},
   "source": [
    "### relationship between political leaning and pr_pa_ratio"
   ]
  },
  {
   "cell_type": "code",
   "execution_count": 123,
   "metadata": {},
   "outputs": [],
   "source": [
    "lr = df[df['political_leaning'] == 'Liberal']['pr_total_ratio']\n",
    "lr_sorted = np.sort(lr)\n",
    "plr = 1. * np.arange(len(lr)) / (len(lr) - 1)\n",
    "\n",
    "cr = df[df['political_leaning'] == 'Conservative']['pr_total_ratio']\n",
    "cr_sorted = np.sort(cr)\n",
    "pcr = 1. * np.arange(len(cr)) / (len(cr) - 1)"
   ]
  },
  {
   "cell_type": "code",
   "execution_count": 124,
   "metadata": {},
   "outputs": [
    {
     "name": "stderr",
     "output_type": "stream",
     "text": [
      "/home/saed/.local/lib/python3.9/site-packages/seaborn/_decorators.py:36: FutureWarning: Pass the following variables as keyword args: x, y. From version 0.12, the only valid positional argument will be `data`, and passing other arguments without an explicit keyword will result in an error or misinterpretation.\n",
      "  warnings.warn(\n",
      "/home/saed/.local/lib/python3.9/site-packages/seaborn/_decorators.py:36: FutureWarning: Pass the following variables as keyword args: x, y. From version 0.12, the only valid positional argument will be `data`, and passing other arguments without an explicit keyword will result in an error or misinterpretation.\n",
      "  warnings.warn(\n"
     ]
    },
    {
     "data": {
      "image/png": "[encoded data removed]",
      "text/plain": [
       "<Figure size 432x288 with 1 Axes>"
      ]
     },
     "metadata": {},
     "output_type": "display_data"
    }
   ],
   "source": [
    "fig, ax = plt.subplots()\n",
    "sns.lineplot(tuple(lr_sorted), plr, label='Liberal')\n",
    "sns.lineplot(tuple(cr_sorted), pcr, label='Conservative')\n",
    "#ax.set_xscale('log')\n",
    "plt.show()"
   ]
  },
  {
   "cell_type": "code",
   "execution_count": 131,
   "metadata": {},
   "outputs": [
    {
     "name": "stderr",
     "output_type": "stream",
     "text": [
      "/home/saed/.local/lib/python3.9/site-packages/seaborn/_decorators.py:36: FutureWarning: Pass the following variables as keyword args: x, y. From version 0.12, the only valid positional argument will be `data`, and passing other arguments without an explicit keyword will result in an error or misinterpretation.\n",
      "  warnings.warn(\n",
      "/home/saed/.local/lib/python3.9/site-packages/seaborn/_decorators.py:36: FutureWarning: Pass the following variables as keyword args: x, y. From version 0.12, the only valid positional argument will be `data`, and passing other arguments without an explicit keyword will result in an error or misinterpretation.\n",
      "  warnings.warn(\n"
     ]
    },
    {
     "data": {
      "image/png": "[encoded data removed]",
      "text/plain": [
       "<Figure size 432x288 with 1 Axes>"
      ]
     },
     "metadata": {},
     "output_type": "display_data"
    }
   ],
   "source": [
    "fig, ax = plt.subplots()\n",
    "sns.lineplot(tuple(lr_sorted), plr, ax=ax, label='Liberal')\n",
    "sns.lineplot(tuple(cr_sorted), pcr, ax=ax, label='Conservative')\n",
    "#ax.set_xscale('log')\n",
    "plt.show()\n",
    "#fig.savefig('../plots/leaning_tense.png', format='png', dpi=300)"
   ]
  },
  {
   "cell_type": "code",
   "execution_count": 132,
   "metadata": {},
   "outputs": [
    {
     "data": {
      "text/plain": [
       "<AxesSubplot:xlabel='political_leaning', ylabel='pr_total_ratio'>"
      ]
     },
     "execution_count": 132,
     "metadata": {},
     "output_type": "execute_result"
    },
    {
     "data": {
      "image/png": "[encoded data removed]",
      "text/plain": [
       "<Figure size 432x288 with 1 Axes>"
      ]
     },
     "metadata": {},
     "output_type": "display_data"
    }
   ],
   "source": [
    "fig, ax = plt.subplots()\n",
    "# ax.set_yscale('log')\n",
    "sns.boxplot(x='political_leaning', y='pr_total_ratio', data=df)"
   ]
  },
  {
   "cell_type": "code",
   "execution_count": 133,
   "metadata": {},
   "outputs": [],
   "source": [
    "from scipy import stats"
   ]
  },
  {
   "cell_type": "code",
   "execution_count": 134,
   "metadata": {},
   "outputs": [
    {
     "data": {
      "text/plain": [
       "KstestResult(statistic=0.16666666666666666, pvalue=0.6440928544286291)"
      ]
     },
     "execution_count": 134,
     "metadata": {},
     "output_type": "execute_result"
    }
   ],
   "source": [
    "stats.ks_2samp(lr_sorted, cr_sorted)"
   ]
  },
  {
   "cell_type": "markdown",
   "metadata": {},
   "source": [
    "### relationship between political leaning and brokenness"
   ]
  },
  {
   "cell_type": "code",
   "execution_count": 205,
   "metadata": {},
   "outputs": [
    {
     "data": {
      "text/plain": [
       "<AxesSubplot:xlabel='political_leaning', ylabel='brokenness'>"
      ]
     },
     "execution_count": 205,
     "metadata": {},
     "output_type": "execute_result"
    },
    {
     "data": {
      "image/png": "[encoded data removed]",
      "text/plain": [
       "<Figure size 432x288 with 1 Axes>"
      ]
     },
     "metadata": {},
     "output_type": "display_data"
    }
   ],
   "source": [
    "fig, ax = plt.subplots()\n",
    "# ax.set_yscale('log')\n",
    "sns.boxplot(x='political_leaning', y='brokenness', data=df)"
   ]
  },
  {
   "cell_type": "code",
   "execution_count": 206,
   "metadata": {},
   "outputs": [],
   "source": [
    "lr = df[df['political_leaning'] == 'Liberal']['brokenness']\n",
    "lr_sorted = np.sort(lr)\n",
    "plr = 1. * np.arange(len(lr)) / (len(lr) - 1)\n",
    "\n",
    "cr = df[df['political_leaning'] == 'Conservative']['brokenness']\n",
    "cr_sorted = np.sort(cr)\n",
    "pcr = 1. * np.arange(len(cr)) / (len(cr) - 1)\n"
   ]
  },
  {
   "cell_type": "code",
   "execution_count": 212,
   "metadata": {},
   "outputs": [
    {
     "name": "stderr",
     "output_type": "stream",
     "text": [
      "/home/saed/.local/lib/python3.9/site-packages/seaborn/_decorators.py:36: FutureWarning: Pass the following variables as keyword args: x, y. From version 0.12, the only valid positional argument will be `data`, and passing other arguments without an explicit keyword will result in an error or misinterpretation.\n",
      "  warnings.warn(\n",
      "/home/saed/.local/lib/python3.9/site-packages/seaborn/_decorators.py:36: FutureWarning: Pass the following variables as keyword args: x, y. From version 0.12, the only valid positional argument will be `data`, and passing other arguments without an explicit keyword will result in an error or misinterpretation.\n",
      "  warnings.warn(\n"
     ]
    },
    {
     "data": {
      "image/png": "[encoded data removed]",
      "text/plain": [
       "<Figure size 432x288 with 1 Axes>"
      ]
     },
     "metadata": {},
     "output_type": "display_data"
    }
   ],
   "source": [
    "fig, ax = plt.subplots()\n",
    "sns.lineplot(tuple(lr_sorted), plr, ax=ax, label='Liberal')\n",
    "sns.lineplot(tuple(cr_sorted), pcr, ax=ax, label='Conservative')\n",
    "plt.ylabel(\"Cumulative Distribution Function (CDF)\")\n",
    "plt.xlabel(\"Discontinuity\")\n",
    "plt.show()\n",
    "fig.savefig ('../plots/brokenness_plt.png', format= 'png', dpi=300 )"
   ]
  },
  {
   "cell_type": "code",
   "execution_count": 208,
   "metadata": {},
   "outputs": [
    {
     "data": {
      "text/plain": [
       "KstestResult(statistic=0.35454545454545455, pvalue=0.016602480198681158)"
      ]
     },
     "execution_count": 208,
     "metadata": {},
     "output_type": "execute_result"
    }
   ],
   "source": [
    "stats.ks_2samp(lr_sorted, cr_sorted)"
   ]
  },
  {
   "cell_type": "code",
   "execution_count": null,
   "metadata": {},
   "outputs": [],
   "source": []
  }
 ],
 "metadata": {
  "kernelspec": {
   "display_name": "Python 3",
   "language": "python",
   "name": "python3"
  },
  "language_info": {
   "codemirror_mode": {
    "name": "ipython",
    "version": 3
   },
   "file_extension": ".py",
   "mimetype": "text/x-python",
   "name": "python",
   "nbconvert_exporter": "python",
   "pygments_lexer": "ipython3",
   "version": "3.7.6"
  }
 },
 "nbformat": 4,
 "nbformat_minor": 2
}
